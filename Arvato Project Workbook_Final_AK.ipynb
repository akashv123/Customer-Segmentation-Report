{
 "cells": [
  {
   "cell_type": "markdown",
   "metadata": {},
   "source": [
    "# Capstone Project: Create a Customer Segmentation Report for Arvato Financial Services\n",
    "\n",
    "In this project, you will analyze demographics data for customers of a mail-order sales company in Germany, comparing it against demographics information for the general population. You'll use unsupervised learning techniques to perform customer segmentation, identifying the parts of the population that best describe the core customer base of the company. Then, you'll apply what you've learned on a third dataset with demographics information for targets of a marketing campaign for the company, and use a model to predict which individuals are most likely to convert into becoming customers for the company. The data that you will use has been provided by our partners at Bertelsmann Arvato Analytics, and represents a real-life data science task.\n",
    "\n",
    "If you completed the first term of this program, you will be familiar with the first part of this project, from the unsupervised learning project. The versions of those two datasets used in this project will include many more features and has not been pre-cleaned. You are also free to choose whatever approach you'd like to analyzing the data rather than follow pre-determined steps. In your work on this project, make sure that you carefully document your steps and decisions, since your main deliverable for this project will be a blog post reporting your findings."
   ]
  },
  {
   "cell_type": "code",
   "execution_count": 1,
   "metadata": {},
   "outputs": [],
   "source": [
    "# Import libraries here\n",
    "\n",
    "import numpy as np\n",
    "import pandas as pd\n",
    "import matplotlib.pyplot as plt\n",
    "import seaborn as sns\n",
    "import time\n",
    "\n",
    "from sklearn.cluster import KMeans\n",
    "from sklearn.decomposition import PCA\n",
    "from sklearn.preprocessing import StandardScaler, Imputer\n",
    "from sklearn.model_selection import train_test_split\n",
    "from sklearn.model_selection import GridSearchCV\n",
    "from sklearn.ensemble import RandomForestClassifier, GradientBoostingClassifier\n",
    "from sklearn.model_selection import learning_curve\n",
    "from xgboost.sklearn import XGBRegressor\n",
    "from sklearn.ensemble import RandomForestRegressor\n",
    "\n",
    "\n",
    "%matplotlib inline"
   ]
  },
  {
   "cell_type": "code",
   "execution_count": 2,
   "metadata": {},
   "outputs": [
    {
     "name": "stdout",
     "output_type": "stream",
     "text": [
      "Requirement already satisfied: xgboost in c:\\users\\akash\\anaconda3\\lib\\site-packages (1.1.1)\n",
      "Requirement already satisfied: numpy in c:\\users\\akash\\anaconda3\\lib\\site-packages (from xgboost) (1.16.5)\n",
      "Requirement already satisfied: scipy in c:\\users\\akash\\anaconda3\\lib\\site-packages (from xgboost) (1.4.1)\n"
     ]
    }
   ],
   "source": [
    "!pip install xgboost\n",
    "import xgboost as xgb"
   ]
  },
  {
   "cell_type": "code",
   "execution_count": 3,
   "metadata": {},
   "outputs": [
    {
     "data": {
      "text/plain": [
       "'C:\\\\Users\\\\akash\\\\Desktop\\\\Capstone Project'"
      ]
     },
     "execution_count": 3,
     "metadata": {},
     "output_type": "execute_result"
    }
   ],
   "source": [
    "import os\n",
    "os.getcwd()"
   ]
  },
  {
   "cell_type": "markdown",
   "metadata": {},
   "source": [
    "## Part 0: Get to Know the Data\n",
    "\n",
    "There are four data files associated with this project:\n",
    "\n",
    "- `Udacity_AZDIAS_052018.csv`: Demographics data for the general population of Germany; 891 211 persons (rows) x 366 features (columns).\n",
    "- `Udacity_CUSTOMERS_052018.csv`: Demographics data for customers of a mail-order company; 191 652 persons (rows) x 369 features (columns).\n",
    "- `Udacity_MAILOUT_052018_TRAIN.csv`: Demographics data for individuals who were targets of a marketing campaign; 42 982 persons (rows) x 367 (columns).\n",
    "- `Udacity_MAILOUT_052018_TEST.csv`: Demographics data for individuals who were targets of a marketing campaign; 42 833 persons (rows) x 366 (columns).\n",
    "\n",
    "Each row of the demographics files represents a single person, but also includes information outside of individuals, including information about their household, building, and neighborhood. Use the information from the first two files to figure out how customers (\"CUSTOMERS\") are similar to or differ from the general population at large (\"AZDIAS\"), then use your analysis to make predictions on the other two files (\"MAILOUT\"), predicting which recipients are most likely to become a customer for the mail-order company.\n",
    "\n",
    "The \"CUSTOMERS\" file contains three extra columns ('CUSTOMER_GROUP', 'ONLINE_PURCHASE', and 'PRODUCT_GROUP'), which provide broad information about the customers depicted in the file. The original \"MAILOUT\" file included one additional column, \"RESPONSE\", which indicated whether or not each recipient became a customer of the company. For the \"TRAIN\" subset, this column has been retained, but in the \"TEST\" subset it has been removed; it is against that withheld column that your final predictions will be assessed in the Kaggle competition.\n",
    "\n",
    "Otherwise, all of the remaining columns are the same between the three data files. For more information about the columns depicted in the files, you can refer to two Excel spreadsheets provided in the workspace. [One of them](./DIAS Information Levels - Attributes 2017.xlsx) is a top-level list of attributes and descriptions, organized by informational category. [The other](./DIAS Attributes - Values 2017.xlsx) is a detailed mapping of data values for each feature in alphabetical order.\n",
    "\n",
    "In the below cell, we've provided some initial code to load in the first two datasets. Note for all of the `.csv` data files in this project that they're semicolon (`;`) delimited, so an additional argument in the [`read_csv()`](https://pandas.pydata.org/pandas-docs/stable/generated/pandas.read_csv.html) call has been included to read in the data properly. Also, considering the size of the datasets, it may take some time for them to load completely.\n",
    "\n",
    "You'll notice when the data is loaded in that a warning message will immediately pop up. Before you really start digging into the modeling and analysis, you're going to need to perform some cleaning. Take some time to browse the structure of the data and look over the informational spreadsheets to understand the data values. Make some decisions on which features to keep, which features to drop, and if any revisions need to be made on data formats. It'll be a good idea to create a function with pre-processing steps, since you'll need to clean all of the datasets before you work with them."
   ]
  },
  {
   "cell_type": "markdown",
   "metadata": {},
   "source": [
    "# Load and Explore the Data"
   ]
  },
  {
   "cell_type": "code",
   "execution_count": 4,
   "metadata": {},
   "outputs": [
    {
     "name": "stderr",
     "output_type": "stream",
     "text": [
      "C:\\Users\\akash\\Anaconda3\\lib\\site-packages\\IPython\\core\\interactiveshell.py:3058: DtypeWarning: Columns (19,20) have mixed types. Specify dtype option on import or set low_memory=False.\n",
      "  interactivity=interactivity, compiler=compiler, result=result)\n"
     ]
    }
   ],
   "source": [
    "# load in the data\n",
    "azdias = pd.read_csv('C:/Users/akash/Desktop/Capstone Project/Udacity_AZDIAS_052018.csv', sep=';')\n",
    "customers = pd.read_csv('C:/Users/akash/Desktop/Capstone Project/Udacity_CUSTOMERS_052018.csv', sep=';')"
   ]
  },
  {
   "cell_type": "code",
   "execution_count": 5,
   "metadata": {},
   "outputs": [
    {
     "data": {
      "text/html": [
       "<div>\n",
       "<style scoped>\n",
       "    .dataframe tbody tr th:only-of-type {\n",
       "        vertical-align: middle;\n",
       "    }\n",
       "\n",
       "    .dataframe tbody tr th {\n",
       "        vertical-align: top;\n",
       "    }\n",
       "\n",
       "    .dataframe thead th {\n",
       "        text-align: right;\n",
       "    }\n",
       "</style>\n",
       "<table border=\"1\" class=\"dataframe\">\n",
       "  <thead>\n",
       "    <tr style=\"text-align: right;\">\n",
       "      <th></th>\n",
       "      <th>LNR</th>\n",
       "      <th>AGER_TYP</th>\n",
       "      <th>AKT_DAT_KL</th>\n",
       "      <th>ALTER_HH</th>\n",
       "      <th>ALTER_KIND1</th>\n",
       "      <th>ALTER_KIND2</th>\n",
       "      <th>ALTER_KIND3</th>\n",
       "      <th>ALTER_KIND4</th>\n",
       "      <th>ALTERSKATEGORIE_FEIN</th>\n",
       "      <th>ANZ_HAUSHALTE_AKTIV</th>\n",
       "      <th>...</th>\n",
       "      <th>VHN</th>\n",
       "      <th>VK_DHT4A</th>\n",
       "      <th>VK_DISTANZ</th>\n",
       "      <th>VK_ZG11</th>\n",
       "      <th>W_KEIT_KIND_HH</th>\n",
       "      <th>WOHNDAUER_2008</th>\n",
       "      <th>WOHNLAGE</th>\n",
       "      <th>ZABEOTYP</th>\n",
       "      <th>ANREDE_KZ</th>\n",
       "      <th>ALTERSKATEGORIE_GROB</th>\n",
       "    </tr>\n",
       "  </thead>\n",
       "  <tbody>\n",
       "    <tr>\n",
       "      <td>0</td>\n",
       "      <td>910215</td>\n",
       "      <td>-1</td>\n",
       "      <td>NaN</td>\n",
       "      <td>NaN</td>\n",
       "      <td>NaN</td>\n",
       "      <td>NaN</td>\n",
       "      <td>NaN</td>\n",
       "      <td>NaN</td>\n",
       "      <td>NaN</td>\n",
       "      <td>NaN</td>\n",
       "      <td>...</td>\n",
       "      <td>NaN</td>\n",
       "      <td>NaN</td>\n",
       "      <td>NaN</td>\n",
       "      <td>NaN</td>\n",
       "      <td>NaN</td>\n",
       "      <td>NaN</td>\n",
       "      <td>NaN</td>\n",
       "      <td>3</td>\n",
       "      <td>1</td>\n",
       "      <td>2</td>\n",
       "    </tr>\n",
       "    <tr>\n",
       "      <td>1</td>\n",
       "      <td>910220</td>\n",
       "      <td>-1</td>\n",
       "      <td>9.0</td>\n",
       "      <td>0.0</td>\n",
       "      <td>NaN</td>\n",
       "      <td>NaN</td>\n",
       "      <td>NaN</td>\n",
       "      <td>NaN</td>\n",
       "      <td>21.0</td>\n",
       "      <td>11.0</td>\n",
       "      <td>...</td>\n",
       "      <td>4.0</td>\n",
       "      <td>8.0</td>\n",
       "      <td>11.0</td>\n",
       "      <td>10.0</td>\n",
       "      <td>3.0</td>\n",
       "      <td>9.0</td>\n",
       "      <td>4.0</td>\n",
       "      <td>5</td>\n",
       "      <td>2</td>\n",
       "      <td>1</td>\n",
       "    </tr>\n",
       "    <tr>\n",
       "      <td>2</td>\n",
       "      <td>910225</td>\n",
       "      <td>-1</td>\n",
       "      <td>9.0</td>\n",
       "      <td>17.0</td>\n",
       "      <td>NaN</td>\n",
       "      <td>NaN</td>\n",
       "      <td>NaN</td>\n",
       "      <td>NaN</td>\n",
       "      <td>17.0</td>\n",
       "      <td>10.0</td>\n",
       "      <td>...</td>\n",
       "      <td>2.0</td>\n",
       "      <td>9.0</td>\n",
       "      <td>9.0</td>\n",
       "      <td>6.0</td>\n",
       "      <td>3.0</td>\n",
       "      <td>9.0</td>\n",
       "      <td>2.0</td>\n",
       "      <td>5</td>\n",
       "      <td>2</td>\n",
       "      <td>3</td>\n",
       "    </tr>\n",
       "    <tr>\n",
       "      <td>3</td>\n",
       "      <td>910226</td>\n",
       "      <td>2</td>\n",
       "      <td>1.0</td>\n",
       "      <td>13.0</td>\n",
       "      <td>NaN</td>\n",
       "      <td>NaN</td>\n",
       "      <td>NaN</td>\n",
       "      <td>NaN</td>\n",
       "      <td>13.0</td>\n",
       "      <td>1.0</td>\n",
       "      <td>...</td>\n",
       "      <td>0.0</td>\n",
       "      <td>7.0</td>\n",
       "      <td>10.0</td>\n",
       "      <td>11.0</td>\n",
       "      <td>NaN</td>\n",
       "      <td>9.0</td>\n",
       "      <td>7.0</td>\n",
       "      <td>3</td>\n",
       "      <td>2</td>\n",
       "      <td>4</td>\n",
       "    </tr>\n",
       "    <tr>\n",
       "      <td>4</td>\n",
       "      <td>910241</td>\n",
       "      <td>-1</td>\n",
       "      <td>1.0</td>\n",
       "      <td>20.0</td>\n",
       "      <td>NaN</td>\n",
       "      <td>NaN</td>\n",
       "      <td>NaN</td>\n",
       "      <td>NaN</td>\n",
       "      <td>14.0</td>\n",
       "      <td>3.0</td>\n",
       "      <td>...</td>\n",
       "      <td>2.0</td>\n",
       "      <td>3.0</td>\n",
       "      <td>5.0</td>\n",
       "      <td>4.0</td>\n",
       "      <td>2.0</td>\n",
       "      <td>9.0</td>\n",
       "      <td>3.0</td>\n",
       "      <td>4</td>\n",
       "      <td>1</td>\n",
       "      <td>3</td>\n",
       "    </tr>\n",
       "  </tbody>\n",
       "</table>\n",
       "<p>5 rows × 366 columns</p>\n",
       "</div>"
      ],
      "text/plain": [
       "      LNR  AGER_TYP  AKT_DAT_KL  ALTER_HH  ALTER_KIND1  ALTER_KIND2  \\\n",
       "0  910215        -1         NaN       NaN          NaN          NaN   \n",
       "1  910220        -1         9.0       0.0          NaN          NaN   \n",
       "2  910225        -1         9.0      17.0          NaN          NaN   \n",
       "3  910226         2         1.0      13.0          NaN          NaN   \n",
       "4  910241        -1         1.0      20.0          NaN          NaN   \n",
       "\n",
       "   ALTER_KIND3  ALTER_KIND4  ALTERSKATEGORIE_FEIN  ANZ_HAUSHALTE_AKTIV  ...  \\\n",
       "0          NaN          NaN                   NaN                  NaN  ...   \n",
       "1          NaN          NaN                  21.0                 11.0  ...   \n",
       "2          NaN          NaN                  17.0                 10.0  ...   \n",
       "3          NaN          NaN                  13.0                  1.0  ...   \n",
       "4          NaN          NaN                  14.0                  3.0  ...   \n",
       "\n",
       "   VHN  VK_DHT4A  VK_DISTANZ  VK_ZG11  W_KEIT_KIND_HH  WOHNDAUER_2008  \\\n",
       "0  NaN       NaN         NaN      NaN             NaN             NaN   \n",
       "1  4.0       8.0        11.0     10.0             3.0             9.0   \n",
       "2  2.0       9.0         9.0      6.0             3.0             9.0   \n",
       "3  0.0       7.0        10.0     11.0             NaN             9.0   \n",
       "4  2.0       3.0         5.0      4.0             2.0             9.0   \n",
       "\n",
       "   WOHNLAGE ZABEOTYP ANREDE_KZ ALTERSKATEGORIE_GROB  \n",
       "0       NaN        3         1                    2  \n",
       "1       4.0        5         2                    1  \n",
       "2       2.0        5         2                    3  \n",
       "3       7.0        3         2                    4  \n",
       "4       3.0        4         1                    3  \n",
       "\n",
       "[5 rows x 366 columns]"
      ]
     },
     "execution_count": 5,
     "metadata": {},
     "output_type": "execute_result"
    }
   ],
   "source": [
    "del azdias['Unnamed: 0']\n",
    "del customers['Unnamed: 0']\n",
    "azdias.head()"
   ]
  },
  {
   "cell_type": "code",
   "execution_count": 6,
   "metadata": {},
   "outputs": [
    {
     "data": {
      "text/plain": [
       "(891221, 366)"
      ]
     },
     "execution_count": 6,
     "metadata": {},
     "output_type": "execute_result"
    }
   ],
   "source": [
    "# Shape of data\n",
    "azdias.shape"
   ]
  },
  {
   "cell_type": "code",
   "execution_count": 7,
   "metadata": {},
   "outputs": [
    {
     "name": "stdout",
     "output_type": "stream",
     "text": [
      "<class 'pandas.core.frame.DataFrame'>\n",
      "RangeIndex: 891221 entries, 0 to 891220\n",
      "Columns: 366 entries, LNR to ALTERSKATEGORIE_GROB\n",
      "dtypes: float64(267), int64(93), object(6)\n",
      "memory usage: 2.4+ GB\n"
     ]
    }
   ],
   "source": [
    "azdias.info()"
   ]
  },
  {
   "cell_type": "markdown",
   "metadata": {},
   "source": [
    "# Data Preprocessing and Cleaning"
   ]
  },
  {
   "cell_type": "code",
   "execution_count": 8,
   "metadata": {},
   "outputs": [
    {
     "data": {
      "text/html": [
       "<div>\n",
       "<style scoped>\n",
       "    .dataframe tbody tr th:only-of-type {\n",
       "        vertical-align: middle;\n",
       "    }\n",
       "\n",
       "    .dataframe tbody tr th {\n",
       "        vertical-align: top;\n",
       "    }\n",
       "\n",
       "    .dataframe thead th {\n",
       "        text-align: right;\n",
       "    }\n",
       "</style>\n",
       "<table border=\"1\" class=\"dataframe\">\n",
       "  <thead>\n",
       "    <tr style=\"text-align: right;\">\n",
       "      <th></th>\n",
       "      <th>CAMEO_DEU_2015</th>\n",
       "      <th>CAMEO_DEUG_2015</th>\n",
       "      <th>CAMEO_INTL_2015</th>\n",
       "      <th>D19_LETZTER_KAUF_BRANCHE</th>\n",
       "      <th>EINGEFUEGT_AM</th>\n",
       "      <th>OST_WEST_KZ</th>\n",
       "    </tr>\n",
       "  </thead>\n",
       "  <tbody>\n",
       "    <tr>\n",
       "      <td>0</td>\n",
       "      <td>NaN</td>\n",
       "      <td>NaN</td>\n",
       "      <td>NaN</td>\n",
       "      <td>NaN</td>\n",
       "      <td>NaN</td>\n",
       "      <td>NaN</td>\n",
       "    </tr>\n",
       "    <tr>\n",
       "      <td>1</td>\n",
       "      <td>8A</td>\n",
       "      <td>8</td>\n",
       "      <td>51</td>\n",
       "      <td>NaN</td>\n",
       "      <td>1992-02-10 00:00:00</td>\n",
       "      <td>W</td>\n",
       "    </tr>\n",
       "    <tr>\n",
       "      <td>2</td>\n",
       "      <td>4C</td>\n",
       "      <td>4</td>\n",
       "      <td>24</td>\n",
       "      <td>D19_UNBEKANNT</td>\n",
       "      <td>1992-02-12 00:00:00</td>\n",
       "      <td>W</td>\n",
       "    </tr>\n",
       "    <tr>\n",
       "      <td>3</td>\n",
       "      <td>2A</td>\n",
       "      <td>2</td>\n",
       "      <td>12</td>\n",
       "      <td>D19_UNBEKANNT</td>\n",
       "      <td>1997-04-21 00:00:00</td>\n",
       "      <td>W</td>\n",
       "    </tr>\n",
       "    <tr>\n",
       "      <td>4</td>\n",
       "      <td>6B</td>\n",
       "      <td>6</td>\n",
       "      <td>43</td>\n",
       "      <td>D19_SCHUHE</td>\n",
       "      <td>1992-02-12 00:00:00</td>\n",
       "      <td>W</td>\n",
       "    </tr>\n",
       "  </tbody>\n",
       "</table>\n",
       "</div>"
      ],
      "text/plain": [
       "  CAMEO_DEU_2015 CAMEO_DEUG_2015 CAMEO_INTL_2015 D19_LETZTER_KAUF_BRANCHE  \\\n",
       "0            NaN             NaN             NaN                      NaN   \n",
       "1             8A               8              51                      NaN   \n",
       "2             4C               4              24            D19_UNBEKANNT   \n",
       "3             2A               2              12            D19_UNBEKANNT   \n",
       "4             6B               6              43               D19_SCHUHE   \n",
       "\n",
       "         EINGEFUEGT_AM OST_WEST_KZ  \n",
       "0                  NaN         NaN  \n",
       "1  1992-02-10 00:00:00           W  \n",
       "2  1992-02-12 00:00:00           W  \n",
       "3  1997-04-21 00:00:00           W  \n",
       "4  1992-02-12 00:00:00           W  "
      ]
     },
     "execution_count": 8,
     "metadata": {},
     "output_type": "execute_result"
    }
   ],
   "source": [
    "# check object features which we need to convert or remove from the database for PCA\n",
    "df_object = azdias.select_dtypes(include='object')\n",
    "df_object.head()"
   ]
  },
  {
   "cell_type": "code",
   "execution_count": 9,
   "metadata": {},
   "outputs": [
    {
     "name": "stdout",
     "output_type": "stream",
     "text": [
      "{'PRODUCT_GROUP', 'ONLINE_PURCHASE', 'CUSTOMER_GROUP'}\n"
     ]
    }
   ],
   "source": [
    "# remove extra columns from customers data\n",
    "customers_extra_columns=set(customers.columns.tolist())-set(azdias.columns.tolist())\n",
    "print(customers_extra_columns)\n",
    "customers.drop(customers_extra_columns,axis=1, inplace=True)"
   ]
  },
  {
   "cell_type": "code",
   "execution_count": 10,
   "metadata": {},
   "outputs": [],
   "source": [
    "# remove columns which have more than 20% missing data\n",
    "percent_null_count = (azdias.isnull().sum()/len(azdias))*100\n",
    "percent_missing_over20 = percent_null_count[percent_null_count>20]\n",
    "missing20_col_names=percent_missing_over20.index.tolist()"
   ]
  },
  {
   "cell_type": "code",
   "execution_count": 11,
   "metadata": {},
   "outputs": [
    {
     "data": {
      "text/plain": [
       "['ALTER_KIND1',\n",
       " 'ALTER_KIND2',\n",
       " 'ALTER_KIND3',\n",
       " 'ALTER_KIND4',\n",
       " 'ALTERSKATEGORIE_FEIN',\n",
       " 'D19_BANKEN_ONLINE_QUOTE_12',\n",
       " 'D19_GESAMT_ONLINE_QUOTE_12',\n",
       " 'D19_KONSUMTYP',\n",
       " 'D19_LETZTER_KAUF_BRANCHE',\n",
       " 'D19_LOTTO',\n",
       " 'D19_SOZIALES',\n",
       " 'D19_TELKO_ONLINE_QUOTE_12',\n",
       " 'D19_VERSAND_ONLINE_QUOTE_12',\n",
       " 'D19_VERSI_ONLINE_QUOTE_12',\n",
       " 'EXTSEL992',\n",
       " 'KK_KUNDENTYP']"
      ]
     },
     "execution_count": 11,
     "metadata": {},
     "output_type": "execute_result"
    }
   ],
   "source": [
    "missing20_col_names"
   ]
  },
  {
   "cell_type": "code",
   "execution_count": 12,
   "metadata": {},
   "outputs": [],
   "source": [
    "# Creating clean data function"
   ]
  },
  {
   "cell_type": "code",
   "execution_count": 13,
   "metadata": {},
   "outputs": [],
   "source": [
    "def clean_data(data):\n",
    "    \n",
    "    # Remove columns which have more than 20% missing data\n",
    "    \n",
    "    data=data.drop(missing20_col_names,axis=1)\n",
    "    \n",
    "    data['OST_WEST_KZ'].replace(['W','O'],[1,0],inplace=True)\n",
    "    data['VERS_TYP'].replace([1, 2], [1, 0], inplace=True)\n",
    "    data['ANREDE_KZ'].replace([2, 1], [1, 0], inplace=True)\n",
    "    \n",
    "    # Create two new variables using CAMEO_INTL_2015\n",
    "    \n",
    "    data['CAMEO_INTL_2015_WEALTH'] = data['CAMEO_INTL_2015']\n",
    "    data['CAMEO_INTL_2015_LIFESTAGE'] = data['CAMEO_INTL_2015']\n",
    "    data = data.drop('CAMEO_INTL_2015', axis=1)\n",
    "    \n",
    "    wealth_des = {11:1, 12:1, 13:1, 14:1, 15:1, 21:2, 22:2, 23:2, 24:2, 25:2,\n",
    "               31:3, 32:3, 33:3, 34:3, 35:3, 41:4, 42:4, 43:4, 44:4, 45:4,\n",
    "               51:5, 52:5, 53:5, 54:5, 55:5,51:5,'11':1, '12':1, '13':1, '14':1, '15':1, '21':2, '22':2, '23':2, '24':2, '25':2,\n",
    "               '31':3, '32':3, '33':3, '34':3, '35':3, '41':4, '42':4, '43':4, '44':4, '45':4,\n",
    "               '51':5, '52':5, '53':5, '54':5, '55':5,'XX':-1}\n",
    "\n",
    "    lifestage_des = {11:1, 12:2, 13:3, 14:4, 15:5, 21:1, 22:2, 23:3, 24:4, 25:5,\n",
    "                   31:1, 32:2, 33:3, 34:4, 35:5, 41:1, 42:2, 43:3, 44:4, 45:5,\n",
    "                   51:1, 52:2, 53:3, 54:4, 55:5,'11':1, '12':2, '13':3, '14':4, '15':5, '21':1, '22':2, '23':3, '24':4, '25':5,\n",
    "                   '31':1, '32':2, '33':3, '34':4, '35':5, '41':1, '42':2, '43':3, '44':4, '45':5,\n",
    "                   '51':1, '52':2, '53':3, '54':4, '55':5,'XX':-1}\n",
    "    \n",
    "    group_class = {1:1,2:1,3:2,4:2,5:2,6:3,7:3,8:4,9:4,'1':1,'2':1,'3':2,'4':2,'5':2,'6':3,'7':3,'8':4,'9':4,'X':-1}\n",
    "\n",
    "    data['CAMEO_INTL_2015_WEALTH'].replace(wealth_des, inplace=True)\n",
    "    data['CAMEO_INTL_2015_LIFESTAGE'].replace(lifestage_des, inplace=True)\n",
    "    data['CAMEO_DEUG_2015'].replace(group_class, inplace=True)\n",
    "    \n",
    "    data['PRAEGENDE_DECADE'] = data['PRAEGENDE_JUGENDJAHRE']\n",
    "    data = data.drop('PRAEGENDE_JUGENDJAHRE', axis=1)\n",
    "    \n",
    "    # Change coding for PRAEGENDE_DECADE\n",
    "    \n",
    "    decade_dic = {1:1, 2:1, 3:2, 4:2, 5:3, 6:3, 7:3, 8:4, 9:4, 10:5, 11:5, 12:5, 13:5, 14:6, 15:6}\n",
    "    \n",
    "    data['PRAEGENDE_DECADE'].replace(decade_dic, inplace=True)\n",
    "    \n",
    "    data=pd.get_dummies(data, columns=['CAMEO_DEU_2015'])\n",
    "    \n",
    "    # Remove LNR and EINGEFUEGT_AM from the database\n",
    "    \n",
    "    data.drop(['LNR','EINGEFUEGT_AM'], axis=1, inplace=True)\n",
    "    \n",
    "    return data"
   ]
  },
  {
   "cell_type": "code",
   "execution_count": 35,
   "metadata": {},
   "outputs": [],
   "source": [
    "customer=clean_data(customers)\n",
    "\n",
    "# Remove rows which have missing data for more than 10 columns    \n",
    "missing_row=customer.isnull().sum(axis=1)\n",
    "customer=customer[missing_row < 11]"
   ]
  },
  {
   "cell_type": "code",
   "execution_count": 36,
   "metadata": {},
   "outputs": [
    {
     "data": {
      "text/plain": [
       "(891221, 366)"
      ]
     },
     "execution_count": 36,
     "metadata": {},
     "output_type": "execute_result"
    }
   ],
   "source": [
    "# Select 100% of Azdias dataset\n",
    "azdias_sample = azdias.sample(frac=1, random_state=23)\n",
    "azdias_sample.shape"
   ]
  },
  {
   "cell_type": "code",
   "execution_count": 37,
   "metadata": {},
   "outputs": [],
   "source": [
    "azdias_sample = clean_data(azdias_sample)\n",
    "# Remove rows which have missing data for more than 10 columns    \n",
    "missing_row=azdias_sample.isnull().sum(axis=1)\n",
    "azdias_sample=azdias_sample[missing_row < 11]"
   ]
  },
  {
   "cell_type": "code",
   "execution_count": 38,
   "metadata": {},
   "outputs": [
    {
     "name": "stdout",
     "output_type": "stream",
     "text": [
      "Shape of Azdias Dataset: (746781, 393)\n",
      "Shape of Customer Dataset: (132101, 393)\n"
     ]
    }
   ],
   "source": [
    "print('Shape of Azdias Dataset:', azdias_sample.shape)\n",
    "print('Shape of Customer Dataset:', customer.shape)"
   ]
  },
  {
   "cell_type": "markdown",
   "metadata": {},
   "source": [
    "# Part 1: Customer Segmentation Report\n",
    "\n",
    "The main bulk of my analysis will come in this part of the project. Here, I will use unsupervised learning techniques to describe the relationship between the demographics of the company's existing customers and the general population of Germany. By the end of this part, we should be able to describe parts of the general population that are more likely to be part of the mail-order company's main customer base, and which parts of the general population are less so."
   ]
  },
  {
   "cell_type": "markdown",
   "metadata": {},
   "source": [
    "First we will use imputer function for imputing missing values then we will do the feature scaling so that the principal componenet verctors does not get affected when applying pca to reduce the dimensionality. "
   ]
  },
  {
   "cell_type": "code",
   "execution_count": 18,
   "metadata": {},
   "outputs": [
    {
     "name": "stderr",
     "output_type": "stream",
     "text": [
      "C:\\Users\\akash\\Anaconda3\\lib\\site-packages\\sklearn\\utils\\deprecation.py:66: DeprecationWarning: Class Imputer is deprecated; Imputer was deprecated in version 0.20 and will be removed in 0.22. Import impute.SimpleImputer from sklearn instead.\n",
      "  warnings.warn(msg, category=DeprecationWarning)\n"
     ]
    }
   ],
   "source": [
    "# Impute the Nans\n",
    "imputer = Imputer()\n",
    "azdias_data = imputer.fit_transform(azdias_sample)"
   ]
  },
  {
   "cell_type": "code",
   "execution_count": 19,
   "metadata": {},
   "outputs": [],
   "source": [
    "# Apply feature scaling\n",
    "scaler = StandardScaler()\n",
    "azdias_data = scaler.fit_transform(azdias_data)"
   ]
  },
  {
   "cell_type": "markdown",
   "metadata": {},
   "source": [
    "# Perform Dimensionality Reduction"
   ]
  },
  {
   "cell_type": "markdown",
   "metadata": {},
   "source": [
    "After applying principal component analysis on the database we need to check the ratio of variance explained by each principal component as well as the cumulative variance explained. We need to choose few transformed features for the clustering part of the project."
   ]
  },
  {
   "cell_type": "code",
   "execution_count": 20,
   "metadata": {},
   "outputs": [],
   "source": [
    "# Apply PCA\n",
    "pca = PCA(200)\n",
    "pca_azdias = pca.fit_transform(azdias_data)"
   ]
  },
  {
   "cell_type": "code",
   "execution_count": 21,
   "metadata": {},
   "outputs": [],
   "source": [
    "# Plot the variance explained by each principal component.\n",
    "\n",
    "def principal_component_plot(pca):\n",
    "    '''\n",
    "    INPUT: pca - Result of PCA\n",
    "            \n",
    "    OUTPUT: None\n",
    "    \n",
    "    '''\n",
    "    num_comp = len(pca.explained_variance_ratio_)\n",
    "    indicator = np.arange(num_comp)\n",
    "    vals = pca.explained_variance_ratio_\n",
    " \n",
    "    plt.figure(figsize=(12, 10))\n",
    "    ax = plt.subplot(111)\n",
    "    cumvals = np.cumsum(vals)\n",
    "    ax.bar(indicator, vals)\n",
    "    ax.plot(indicator, cumvals)\n",
    "    for i in range(num_comp):\n",
    "        ax.annotate(r\"%s%%\" % ((str(vals[i]*100)[:4])), (indicator[i]+0.2, vals[i]), va=\"bottom\", ha=\"center\", fontsize=5)\n",
    " \n",
    "    ax.xaxis.set_tick_params(width=0)\n",
    "    ax.yaxis.set_tick_params(width=2, length=12)\n",
    " \n",
    "    ax.set_xlabel(\"Principal Component\")\n",
    "    ax.set_ylabel(\"Variance Explained (%)\")\n",
    "    plt.title('Explained Variance Per Principal Component')"
   ]
  },
  {
   "cell_type": "code",
   "execution_count": 22,
   "metadata": {},
   "outputs": [
    {
     "data": {
      "image/png": "[encoded data removed]",
      "text/plain": [
       "<Figure size 864x720 with 1 Axes>"
      ]
     },
     "metadata": {
      "needs_background": "light"
     },
     "output_type": "display_data"
    }
   ],
   "source": [
    "principal_component_plot(pca)"
   ]
  },
  {
   "cell_type": "markdown",
   "metadata": {},
   "source": [
    "We reduced the component to 200 by applying PCA, which is around half of total features, the result contains over 85% of total information. We can reduce these components furthur to capture the 70% information with this method."
   ]
  },
  {
   "cell_type": "code",
   "execution_count": 23,
   "metadata": {},
   "outputs": [],
   "source": [
    "pca = PCA(110)\n",
    "pca_azdias = pca.fit_transform(azdias_data)"
   ]
  },
  {
   "cell_type": "code",
   "execution_count": 24,
   "metadata": {},
   "outputs": [
    {
     "data": {
      "text/plain": [
       "0.7272401888255023"
      ]
     },
     "execution_count": 24,
     "metadata": {},
     "output_type": "execute_result"
    }
   ],
   "source": [
    "sum(pca.explained_variance_ratio_)"
   ]
  },
  {
   "cell_type": "markdown",
   "metadata": {},
   "source": [
    "# Component Makeup"
   ]
  },
  {
   "cell_type": "markdown",
   "metadata": {},
   "source": [
    "We can now examine the make up of each PCA component based on the weightings of the original features that are included in the component. The following code shows the feature level makeup of the first component."
   ]
  },
  {
   "cell_type": "code",
   "execution_count": 25,
   "metadata": {},
   "outputs": [],
   "source": [
    "features_list = azdias_sample.columns.values"
   ]
  },
  {
   "cell_type": "code",
   "execution_count": 26,
   "metadata": {},
   "outputs": [],
   "source": [
    "v=pd.DataFrame(pca.components_)"
   ]
  },
  {
   "cell_type": "code",
   "execution_count": 27,
   "metadata": {},
   "outputs": [],
   "source": [
    "def display_component(v,features_list,component_num,n_weights = 10):\n",
    "    \n",
    "    # get the list of weights     \n",
    "    v_1_row = v.iloc[component_num-1,:]\n",
    "    v_1 = np.squeeze(v_1_row.values)\n",
    "\n",
    "    # match weights to features in scaled dataframe, using list comporehension\n",
    "    comps = pd.DataFrame(list(zip(v_1, features_list)),columns=['weights', 'features'])\n",
    "\n",
    "    # Sort by the largest weights\n",
    "    # weights can be neg/pos and we'll sort by magnitude\n",
    "    \n",
    "    comps['abs_weights']=comps['weights'].apply(lambda x: np.abs(x))\n",
    "    sorted_weight_data = comps.sort_values('abs_weights', ascending=False).head(n_weights)\n",
    "\n",
    "    # display using seaborn\n",
    "    \n",
    "    ax=plt.subplots(figsize=(10,6))\n",
    "    ax=sns.barplot(data=sorted_weight_data, \n",
    "                   x=\"weights\", \n",
    "                   y=\"features\", \n",
    "                   palette=\"Blues_d\")\n",
    "    ax.set_title(\"PCA Component Makeup, Component #\" + str(component_num))\n",
    "    plt.show()"
   ]
  },
  {
   "cell_type": "code",
   "execution_count": 28,
   "metadata": {},
   "outputs": [
    {
     "data": {
      "image/png": "[encoded data removed]",
      "text/plain": [
       "<Figure size 720x432 with 1 Axes>"
      ]
     },
     "metadata": {
      "needs_background": "light"
     },
     "output_type": "display_data"
    }
   ],
   "source": [
    "num=1\n",
    "display_component(v,features_list,component_num=num,n_weights = 10)"
   ]
  },
  {
   "cell_type": "markdown",
   "metadata": {},
   "source": [
    "# K-Means Clustering"
   ]
  },
  {
   "cell_type": "markdown",
   "metadata": {},
   "source": [
    "We will do the clustering by using K-means estimator. K is such that data points in a single cluster are close together but that there are enough clusters to effectively separate the data. We can approximate this separation by measuring how close our data points are to each cluster center; the average centroid distance between cluster points and a centroid. After trying several values for k, the centroid distance typically reaches some \"elbow\"; it stops decreasing at a sharp rate and this indicates a good value of k. We will find out this value by plotting the graph between k and score."
   ]
  },
  {
   "cell_type": "code",
   "execution_count": 29,
   "metadata": {},
   "outputs": [
    {
     "name": "stdout",
     "output_type": "stream",
     "text": [
      "time cost for k= 18  the calculation time is  1541.7918963432312 s\n",
      "time cost for k= 20  the calculation time is  1219.0834827423096 s\n",
      "time cost for k= 22  the calculation time is  1397.8556261062622 s\n",
      "time cost for k= 24  the calculation time is  1266.3224182128906 s\n",
      "time cost for k= 26  the calculation time is  1498.2392835617065 s\n",
      "time cost for k= 28  the calculation time is  1348.0845880508423 s\n",
      "time cost for k= 30  the calculation time is  1585.3306150436401 s\n"
     ]
    }
   ],
   "source": [
    "score = []\n",
    "\n",
    "for i in range(18, 32, 2):\n",
    "    \n",
    "    begin = time.time()\n",
    "    kmean = KMeans(i)\n",
    "    kmean = kmean.fit(pca_azdias)\n",
    "    score.append(np.abs(kmean.score(pca_azdias)))\n",
    "    \n",
    "    # compute the average within-cluster distances.\n",
    "    end = time.time()\n",
    "    print('time cost for k=', str(i), ' the calculation time is ', end-begin, 's')"
   ]
  },
  {
   "cell_type": "code",
   "execution_count": 30,
   "metadata": {},
   "outputs": [
    {
     "data": {
      "image/png": "[encoded data removed]",
      "text/plain": [
       "<Figure size 432x288 with 1 Axes>"
      ]
     },
     "metadata": {
      "needs_background": "light"
     },
     "output_type": "display_data"
    }
   ],
   "source": [
    "# Plot change in within-cluster distance vs number of clusters\n",
    "\n",
    "plt.plot(range(18, 32, 2), score, marker='o', linestyle='-')\n",
    "plt.xlabel('K')\n",
    "plt.ylabel('Score')\n",
    "plt.title('Score of KMean clusers')\n",
    "plt.show()"
   ]
  },
  {
   "cell_type": "code",
   "execution_count": 46,
   "metadata": {},
   "outputs": [
    {
     "name": "stdout",
     "output_type": "stream",
     "text": [
      "141821610.0458409\n",
      "time cost for the calculation is  1514.5597758293152 s\n"
     ]
    }
   ],
   "source": [
    "begin = time.time()\n",
    "kmean = KMeans(30)\n",
    "kmean = kmean.fit(pca_azdias)\n",
    "print(np.abs(kmean.score(pca_azdias)))\n",
    "end = time.time()\n",
    "print('time cost for the calculation is ', end-begin, 's')"
   ]
  },
  {
   "cell_type": "code",
   "execution_count": 47,
   "metadata": {},
   "outputs": [],
   "source": [
    "predict_azdias = kmean.predict(pca_azdias)"
   ]
  },
  {
   "cell_type": "code",
   "execution_count": 48,
   "metadata": {},
   "outputs": [],
   "source": [
    "# Apply imputer, scaler, and pca transform to customer dataset then predict the data with kmean cluster \n",
    "customers_data = imputer.transform(customer)\n",
    "customers_data = scaler.transform(customers_data)\n",
    "pca_customers= pca.transform(customers_data)\n",
    "predict_customers = kmean.predict(pca_customers)"
   ]
  },
  {
   "cell_type": "markdown",
   "metadata": {},
   "source": [
    "# Comapre customers data with demographics data"
   ]
  },
  {
   "cell_type": "markdown",
   "metadata": {},
   "source": [
    "Now we have clustered data based on demographics of the general population of Germany and the customer data for a mail-order sales company which has been mapped onto those demographic clusters. In this final step, the two cluster distributions will be compared to see where the strongest customer base for the company is.\n",
    "\n",
    "If we assume that company's customer base is universal then cluster's distribution should be similar to general population. If there are any mismatch between these two groups that means that particular segment is more interested in company's products. If there are high proportions of customers belong to the particular cluster for the customer data compared to general population that means people in that cluster is the target audience for the company. If its other way around that means population belongs to that cluster is not the right audience for the company."
   ]
  },
  {
   "cell_type": "code",
   "execution_count": 49,
   "metadata": {},
   "outputs": [
    {
     "data": {
      "image/png": "[encoded data removed]",
      "text/plain": [
       "<Figure size 1440x360 with 2 Axes>"
      ]
     },
     "metadata": {
      "needs_background": "light"
     },
     "output_type": "display_data"
    }
   ],
   "source": [
    "# Compare the proportion of data in each cluster for the customer data and general population data.\n",
    "\n",
    "figure, axs = plt.subplots(nrows=1, ncols=2, figsize = (20,5))\n",
    "figure.subplots_adjust(hspace = 1, wspace=.3)\n",
    "\n",
    "sns.countplot(predict_customers, ax=axs[0])\n",
    "axs[0].set_title('Customer Clusters')\n",
    "sns.countplot(predict_azdias, ax=axs[1])\n",
    "axs[1].set_title('General Clusters')\n",
    "plt.show()"
   ]
  },
  {
   "cell_type": "code",
   "execution_count": 50,
   "metadata": {},
   "outputs": [
    {
     "data": {
      "text/plain": [
       "array([ 0.33686346,  5.52077577,  1.54502994, 22.79770781,  2.35198825,\n",
       "        0.66918494,  1.27175419,  3.06886398,  0.94775967,  0.35503138,\n",
       "        0.49204775,  6.83643576,  0.44208598,  0.72066071,  1.47538626,\n",
       "       11.49650646,  6.96663916,  0.26570579,  4.80465704,  0.14231535,\n",
       "        7.2876057 ,  2.70853362,  6.31032316,  0.23845391,  2.20513092,\n",
       "        0.35730237,  1.38454667,  0.16881023,  1.35880879,  5.47308499])"
      ]
     },
     "execution_count": 50,
     "metadata": {},
     "output_type": "execute_result"
    }
   ],
   "source": [
    "np.bincount(predict_customers)/len(predict_customers)*100"
   ]
  },
  {
   "cell_type": "code",
   "execution_count": 54,
   "metadata": {},
   "outputs": [
    {
     "data": {
      "image/png": "[encoded data removed]",
      "text/plain": [
       "<Figure size 720x432 with 1 Axes>"
      ]
     },
     "metadata": {
      "needs_background": "light"
     },
     "output_type": "display_data"
    },
    {
     "name": "stdout",
     "output_type": "stream",
     "text": [
      "[-1.7325518   1.52669986 -1.63153722 17.93764844 -2.35849581 -1.20258202\n",
      " -3.41864367  1.04859297 -1.70683385 -3.98439343 -3.60513737  3.91697209\n",
      "  0.02964913 -2.74675477 -1.01731241  7.19069257  1.89835274 -4.08617248\n",
      "  2.69158775 -3.97120655  2.88939524  0.40330625  2.74783295 -1.95201425\n",
      " -1.34611101 -3.86535461 -3.35352245 -3.25562076  1.10090185  1.85261259]\n"
     ]
    }
   ],
   "source": [
    "plt.figure(figsize=(10, 6))\n",
    "ax = plt.subplot(111)\n",
    "ax.bar(range(1, 31), np.bincount(predict_customers)/len(predict_customers)*100 - np.bincount(predict_azdias)/len(predict_azdias)*100)\n",
    "ax.set_title('Customer percentage difference versus General for each cluster')\n",
    "ax.set_ylabel('Percentage')\n",
    "ax.set_xlabel('Cluster Number')\n",
    "ax.set_xticks(range(1, 31))\n",
    "plt.show()\n",
    "print(np.bincount(predict_customers)/len(predict_customers)*100 - np.bincount(predict_azdias)/len(predict_azdias)*100)"
   ]
  },
  {
   "cell_type": "code",
   "execution_count": 55,
   "metadata": {},
   "outputs": [],
   "source": [
    "def plot_scaled_comparison(df_sample, kmeans, cluster):\n",
    "    X = pd.DataFrame.from_dict(dict(zip(df_sample.columns,\n",
    "            pca.inverse_transform(kmeans.cluster_centers_[cluster]))), orient='index').rename(\n",
    "            columns={0: 'feature_values'}).sort_values('feature_values', ascending=False)\n",
    "    X['feature_values_abs'] = abs(X['feature_values'])\n",
    "    pd.concat((X['feature_values'][:10], X['feature_values'][-10:]), axis=0).plot(kind='barh');"
   ]
  },
  {
   "cell_type": "code",
   "execution_count": 59,
   "metadata": {},
   "outputs": [
    {
     "data": {
      "image/png": "[encoded data removed]",
      "text/plain": [
       "<Figure size 432x288 with 1 Axes>"
      ]
     },
     "metadata": {
      "needs_background": "light"
     },
     "output_type": "display_data"
    }
   ],
   "source": [
    "plot_scaled_comparison(customers, kmean, 3)"
   ]
  },
  {
   "cell_type": "code",
   "execution_count": 60,
   "metadata": {},
   "outputs": [],
   "source": [
    "# check the component values of each cluster, \n",
    "\n",
    "def cluster_centers(cluster, features):\n",
    "    cluster_center = np.around(kmean.cluster_centers_[cluster-1], decimals=2)\n",
    "    clusters_sorted = cluster_center[np.argsort(cluster_center)[:]]\n",
    "    pca_pre = np.around(pca.inverse_transform(kmean.cluster_centers_[cluster-1]), decimals=2)\n",
    "    pca_pre_index = np.argsort(pca_pre)\n",
    "    pca_pre_sorted = pca_pre[np.argsort(pca_pre)[:]]\n",
    "    print('Cluster %s' % cluster)\n",
    "    print('sorted array\\n-----\\n Top 3: %s \\n Bottom 3: %s '% (np.flip(clusters_sorted[-3:],0), clusters_sorted[:3]))\n",
    "    print('\\n original array\\n-----\\n %s'% cluster_center)\n",
    "    \n",
    "    print('PCA sorted\\n-----\\n Top 3: %s \\n Bottom 3: %s '% (np.flip(pca_pre_sorted[-3:],0), pca_pre_sorted[:3]))\n",
    "    print('\\n pre PCA is \\n-----\\n %s'% pca_pre)\n",
    "    print('\\n Top three correlated features are \\n-----\\n %s '% features[pca_pre_index[0]], \\\n",
    "          features[pca_pre_index[1]], features[pca_pre_index[2]])\n",
    "    print('\\n Top three negative correlated features are \\n-----\\n %s'% features[pca_pre_index[-1]], \\\n",
    "          features[pca_pre_index[-2]], features[pca_pre_index[-3]])"
   ]
  },
  {
   "cell_type": "code",
   "execution_count": 62,
   "metadata": {},
   "outputs": [
    {
     "name": "stdout",
     "output_type": "stream",
     "text": [
      "Cluster 4\n",
      "sorted array\n",
      "-----\n",
      " Top 3: [2.84 1.04 0.38] \n",
      " Bottom 3: [-6.62 -1.31 -1.16] \n",
      "\n",
      " original array\n",
      "-----\n",
      " [-6.62  1.04 -1.31 -0.33  2.84 -0.94  0.29  0.38  0.09 -0.45 -0.62 -1.16\n",
      "  0.17 -0.3   0.16  0.22 -0.64  0.07 -0.13  0.1   0.19 -0.04 -0.19 -0.08\n",
      "  0.03  0.28 -0.02  0.28 -0.17  0.11 -0.35 -0.16 -0.2  -0.12 -0.26 -0.14\n",
      "  0.16 -0.16  0.3  -0.35 -0.    0.09  0.16  0.01 -0.1   0.02 -0.06  0.31\n",
      " -0.03 -0.1   0.16  0.    0.05 -0.08 -0.09 -0.19  0.04  0.21 -0.08 -0.01\n",
      "  0.04 -0.06 -0.03  0.04 -0.04  0.01 -0.03 -0.05  0.07 -0.05 -0.06  0.\n",
      " -0.08  0.01  0.04 -0.    0.05 -0.01 -0.01  0.02  0.01  0.08 -0.03  0.01\n",
      " -0.04 -0.05 -0.05  0.01 -0.08  0.02  0.01 -0.07  0.04  0.01  0.02  0.08\n",
      "  0.05  0.01  0.07  0.09  0.03 -0.08  0.    0.06  0.14  0.06  0.06  0.04\n",
      " -0.05  0.  ]\n",
      "PCA sorted\n",
      "-----\n",
      " Top 3: [1.21 1.18 1.16] \n",
      " Bottom 3: [-1.21 -1.18 -1.15] \n",
      "\n",
      " pre PCA is \n",
      "-----\n",
      " [ 0.82 -0.87  0.21 -0.44 -0.12 -0.06  0.73 -0.43 -0.01 -0.47  0.22 -0.84\n",
      " -0.24  0.05 -0.84 -0.96  0.85  0.67  0.84  0.71 -0.06 -0.04 -0.03  0.07\n",
      "  0.01  0.01 -0.03  0.01  0.08  0.48  0.46  0.47  0.28  0.71  0.06  0.22\n",
      "  0.25  0.23  0.24  0.56  0.63 -0.77 -0.7  -0.64  0.64  0.58  0.38 -0.87\n",
      "  0.54  0.29  0.31  0.41  0.7   0.64  0.22  0.78  0.69 -0.03  0.   -0.07\n",
      "  0.11 -0.07 -0.08  0.09  0.08  0.63  0.69 -0.78 -0.8  -0.64  0.17  0.09\n",
      "  0.14 -0.22  0.01 -0.    0.3   0.74  0.41  0.1  -0.68 -0.34 -0.74 -0.6\n",
      "  1.18 -0.97 -0.54  0.87  0.25  0.39 -0.32  0.39  0.29  0.34 -0.24  0.94\n",
      " -0.04  0.19 -1.18  0.35 -0.34 -0.25  0.17  0.11  0.22  0.96 -0.18 -0.6\n",
      " -0.44  0.51 -0.4  -0.18 -0.18  0.09  0.04  0.11 -0.05  0.73  0.1   0.02\n",
      " -0.07 -0.13 -0.18 -0.14  0.38  0.02 -0.04 -0.12 -0.11 -0.05 -0.07  0.04\n",
      " -0.24 -0.    0.09  0.19  0.13 -0.22 -0.09 -0.3   0.09 -0.03 -0.1   0.03\n",
      "  0.13 -0.05  0.07  0.18 -0.01  0.18 -0.08 -0.23 -0.05  0.06 -0.1   0.04\n",
      "  0.04  0.08  0.2  -0.07 -0.33 -0.34 -0.02  0.14  0.16 -0.37 -0.16  0.39\n",
      "  0.05  0.71 -0.26 -0.59 -0.59  0.5   0.06  0.48 -0.67 -0.19 -0.29  0.12\n",
      "  0.22  0.17  0.14  0.06 -0.15 -0.12 -0.08 -0.04  0.16  0.08 -0.    0.04\n",
      "  0.19  0.08  0.06  0.12  0.15 -0.13 -0.31  0.14  0.11  0.71  0.16 -0.2\n",
      " -0.45 -0.41 -0.17  0.21  0.37  0.39  0.28  0.17  0.01 -0.15  0.12  0.14\n",
      "  0.03  0.1  -0.31  0.21 -0.07 -0.01  0.1   0.02 -0.06  0.12  0.01  0.01\n",
      "  0.03  0.27 -0.    0.09  0.    0.03  0.19  0.28  0.22 -0.13  0.15  0.05\n",
      "  0.01 -0.   -0.14 -0.03 -0.04  0.17  0.    0.05  0.03 -0.13  0.19  0.23\n",
      " -0.13  0.05  0.09 -0.12  0.32  0.47  0.01 -0.07 -0.35  0.36  0.17 -0.22\n",
      "  0.07 -0.   -0.17  0.15  0.23  0.46  0.23  0.23 -0.31  0.43 -0.02  0.22\n",
      "  0.13  0.   -0.14 -0.2   0.12 -0.22  0.43  0.4  -0.39  0.72  0.74  1.04\n",
      "  0.96  1.16  1.21 -0.    0.8   0.91 -0.21  0.51 -0.4   0.39  0.73 -0.38\n",
      " -0.59 -0.58 -0.65  0.71  0.22 -0.25 -0.41  0.18 -0.91  0.21 -0.27 -0.1\n",
      "  0.36 -0.36 -0.14 -0.17 -0.32  0.51 -0.46 -0.61 -0.52 -0.57 -0.07 -0.51\n",
      "  0.28  0.14 -0.01 -0.09 -0.04 -0.1   0.34  0.   -0.09  0.15  0.62 -0.15\n",
      " -0.91 -1.15 -1.21  0.03  0.42 -0.06 -0.97 -0.09  0.59 -0.86  0.49 -0.6\n",
      "  0.03  0.1   0.03  0.33  0.04  0.21  0.15  0.35  0.35  0.09  0.01  0.14\n",
      "  0.2   0.1  -0.02  0.22  0.11  0.08 -0.06  0.   -0.01 -0.07  0.02  0.07\n",
      " -0.07 -0.01 -0.05 -0.   -0.1  -0.   -0.12 -0.12 -0.11 -0.07 -0.02 -0.22\n",
      " -0.18 -0.17 -0.15 -0.17 -0.16 -0.19 -0.18 -0.09  0.05]\n",
      "\n",
      " Top three correlated features are \n",
      "-----\n",
      " VK_ZG11  HH_EINKOMMEN_SCORE VK_DISTANZ\n",
      "\n",
      " Top three negative correlated features are \n",
      "-----\n",
      " LP_STATUS_GROB FINANZ_MINIMALIST LP_STATUS_FEIN\n"
     ]
    }
   ],
   "source": [
    "features_pre = list(azdias_sample.columns.values)\n",
    "cluster_centers(4, features_pre)"
   ]
  },
  {
   "cell_type": "code",
   "execution_count": 63,
   "metadata": {},
   "outputs": [
    {
     "name": "stdout",
     "output_type": "stream",
     "text": [
      "Cluster 18\n",
      "sorted array\n",
      "-----\n",
      " Top 3: [1.65 1.2  0.98] \n",
      " Bottom 3: [-4.51 -2.86 -2.8 ] \n",
      "\n",
      " original array\n",
      "-----\n",
      " [ 1.65 -0.89  0.94 -2.8  -4.51  1.2  -2.86  0.98 -0.2   0.1  -0.28 -0.36\n",
      "  0.17  0.08 -0.2   0.01 -0.1  -0.16 -0.02 -0.18 -0.22 -0.33  0.37  0.08\n",
      "  0.15 -0.04  0.25 -0.07 -0.2   0.1  -0.41  0.05 -0.17  0.05 -0.03 -0.22\n",
      "  0.15  0.04 -0.06 -0.14 -0.08  0.06 -0.04 -0.02  0.02 -0.14  0.05 -0.03\n",
      "  0.15 -0.08 -0.05  0.05  0.    0.04 -0.06 -0.02 -0.07 -0.08 -0.02  0.14\n",
      " -0.04 -0.07  0.03  0.07  0.1   0.07  0.    0.   -0.04  0.01  0.02 -0.01\n",
      "  0.   -0.   -0.02  0.    0.04  0.03 -0.06 -0.03  0.01  0.05 -0.    0.02\n",
      "  0.01 -0.   -0.01  0.03 -0.04  0.03 -0.06 -0.05 -0.    0.04  0.09 -0.03\n",
      "  0.07 -0.05 -0.01 -0.01  0.04  0.02 -0.04 -0.01  0.02  0.12 -0.   -0.04\n",
      " -0.01 -0.01]\n",
      "PCA sorted\n",
      "-----\n",
      " Top 3: [1.24 1.21 1.08] \n",
      " Bottom 3: [-1.18 -1.12 -1.09] \n",
      "\n",
      " pre PCA is \n",
      "-----\n",
      " [-0.63  0.64  0.09 -0.04 -0.07  0.   -0.36 -0.05 -0.05 -0.11 -0.06 -0.05\n",
      "  0.33 -0.94  1.21  1.08 -1.12 -0.82 -1.02 -1.18 -0.21 -0.24  0.31 -0.22\n",
      " -0.18 -0.09  0.1   0.28 -0.16 -0.2  -0.2  -0.22 -0.16 -0.28 -0.13 -0.2\n",
      " -0.18 -0.21 -0.19 -0.49 -0.51  0.56  0.41  0.48 -0.32 -0.26 -0.19  0.55\n",
      " -0.25 -0.22 -0.18 -0.21 -0.36 -0.3  -0.15 -0.38 -0.37 -0.16 -0.2   0.25\n",
      " -0.16  0.18  0.06 -0.2  -0.12 -0.43 -0.45  0.49  0.4   0.44 -0.17 -0.24\n",
      " -0.28  0.33  0.11  0.04 -0.27 -0.37 -0.2   0.09  0.39  0.17  0.87  0.29\n",
      " -1.09  0.96  1.01 -0.9  -0.84 -0.04  0.11  0.02 -0.01 -0.16  0.19 -0.13\n",
      "  0.2  -0.11  0.28 -0.01 -0.05 -0.02 -0.12 -0.14 -0.22 -0.15  0.37  0.18\n",
      " -0.13 -0.18 -0.12 -0.14 -0.17  0.03 -0.01 -0.03  0.03 -0.1   0.07 -0.08\n",
      " -0.13 -0.08 -0.11 -0.11 -0.2  -0.06 -0.11 -0.14 -0.09 -0.13 -0.16 -0.06\n",
      " -0.19 -0.03  0.03 -0.15  0.01 -0.14 -0.07 -0.14  0.   -0.08 -0.08 -0.07\n",
      " -0.08 -0.07  0.01 -0.11 -0.06 -0.01 -0.09 -0.19 -0.07 -0.01 -0.12 -0.11\n",
      " -0.   -0.09 -0.03 -0.06 -0.1  -0.14 -0.12  0.    0.03 -0.29 -0.15 -0.07\n",
      "  0.36  0.19  0.2  -0.06 -0.21  0.26  0.13  0.03 -0.31 -0.25 -0.32  0.08\n",
      "  0.18  0.21  0.18  0.36 -0.26 -0.21 -0.2  -0.24  0.08 -0.03 -0.11  0.05\n",
      "  0.27  0.26  0.3   0.34  0.26 -0.18 -0.23  0.18 -0.08  0.39 -0.13 -0.25\n",
      " -0.25 -0.19 -0.14 -0.04 -0.11 -0.02  0.01  0.36  0.32 -0.16  0.02  0.46\n",
      "  0.01 -0.15 -0.23  0.24 -0.15 -0.13 -0.06 -0.31 -0.38  0.23  0.36  0.36\n",
      "  0.08  0.07 -0.01  0.38 -0.19 -0.06  0.24  0.2   0.28 -0.38  0.26  0.2\n",
      "  0.31 -0.11 -0.25 -0.17 -0.18  0.22 -0.08 -0.04  0.11 -0.02  0.43  0.09\n",
      " -0.14 -0.14  0.06 -0.13  0.2   0.3  -0.15 -0.24 -0.4   0.19  0.15 -0.04\n",
      "  0.36  0.28 -0.12  0.38  0.11  0.27  0.16  0.34 -0.35  0.23  0.    0.34\n",
      "  0.08 -0.1  -0.21 -0.24 -0.02 -0.17 -0.84 -0.12 -0.02 -0.31 -0.31 -0.51\n",
      " -0.47 -0.49 -0.54 -0.16 -0.2  -0.15  0.39 -0.04  0.11  0.38  0.2   0.12\n",
      " -0.09 -0.21 -0.32  0.39  0.23 -0.12  0.06 -0.68  0.63 -0.27  0.72  1.02\n",
      " -0.07 -0.33  0.98  0.71 -0.23 -0.72  0.41  0.88  1.24  0.38 -0.6   1.01\n",
      " -1.    0.3  -0.03  0.3  -0.04  0.17 -0.19  0.05  0.11  0.26 -0.28  0.01\n",
      "  0.4   0.68  0.91 -0.15 -0.25 -0.31  0.63  1.05 -0.96 -0.02  0.02  0.95\n",
      "  0.04  0.02 -0.03 -0.03 -0.02 -0.03 -0.07 -0.08  0.08 -0.05 -0.08  0.05\n",
      " -0.01 -0.09 -0.04  0.04  0.07 -0.01  0.1  -0.02  0.   -0.03  0.01  0.02\n",
      "  0.01  0.21  0.12  0.03 -0.04 -0.01  0.11  0.01  0.03 -0.01 -0.03 -0.06\n",
      "  0.   -0.03 -0.08  0.01 -0.08 -0.07 -0.06 -0.07  0.04]\n",
      "\n",
      " Top three correlated features are \n",
      "-----\n",
      " CJT_TYP_6  CJT_TYP_3 FINANZ_MINIMALIST\n",
      "\n",
      " Top three negative correlated features are \n",
      "-----\n",
      " SEMIO_RAT CJT_TYP_1 CJT_TYP_2\n"
     ]
    }
   ],
   "source": [
    "# customer data compared to the general population?\n",
    "cluster_centers(18, features_pre)"
   ]
  },
  {
   "cell_type": "markdown",
   "metadata": {},
   "source": [
    "# Conclusion - Unsupervised Learning Findings"
   ]
  },
  {
   "cell_type": "markdown",
   "metadata": {},
   "source": [
    "First we counted the data points of each cluster for general population and company's customer database. We found out that cluster 4 has 17.94% higher customer percentage compared to general population and cluster 18 is underpresented with a difference of -4.1%. After that we analyzed the two clusters through inverse transformation of PCA.\n",
    "\n",
    "For Cluster 4, we find that VK_ZG11, HH_EINKOMMEN_SCORE and VK_DISTANZ are the highest impacted feature. HH_EINKOMMEN_SCORE shows the income of a household which impacts the customer distribution, VK_ZG11 and VK_DISTANZ are not described in attributes file. Negative correlated features are LP_STATUS_GROB (Social status rough), FINANZ_MINIMALIST (Low Financial Interest) and LP_STATUS_FEIN (Social Status Fine) which shows better financial backed people are more likely to be a potential customer.\n",
    " \n",
    "For cluster 18, highest impacted features are FINANZ_MINIMALIST (Low Financial Interest), CJT_TYP_6 (Not defined) and CJT_TYP_3 (Not defined). It shows that we should not target those people who have low financial interest. Negative correlated features are SEMIO_RAT, CJT_TYP_1 (Not defined) and CJT_TYP_2 (Not defined) which shows rational personality people are less likely to be the customer of the company."
   ]
  },
  {
   "cell_type": "markdown",
   "metadata": {},
   "source": [
    "# --------------------------------------------------------------------------------------------------------------"
   ]
  },
  {
   "cell_type": "markdown",
   "metadata": {},
   "source": [
    "## Part 2: Supervised Learning Model\n",
    "\n",
    "Now that you've found which parts of the population are more likely to be customers of the mail-order company, it's time to build a prediction model. Each of the rows in the \"MAILOUT\" data files represents an individual that was targeted for a mailout campaign. Ideally, we should be able to use the demographic information from each individual to decide whether or not it will be worth it to include that person in the campaign.\n",
    "\n",
    "The \"MAILOUT\" data has been split into two approximately equal parts, each with almost 43 000 data rows. In this part, you can verify your model with the \"TRAIN\" partition, which includes a column, \"RESPONSE\", that states whether or not a person became a customer of the company following the campaign. In the next part, you'll need to create predictions on the \"TEST\" partition, where the \"RESPONSE\" column has been withheld."
   ]
  },
  {
   "cell_type": "markdown",
   "metadata": {},
   "source": [
    "# Exploring the Data"
   ]
  },
  {
   "cell_type": "code",
   "execution_count": null,
   "metadata": {},
   "outputs": [],
   "source": [
    "# Load train and test data\n",
    "mailout_train = pd.read_csv('C:/Users/akash/Desktop/Capstone Project/Udacity_MAILOUT_052018_TRAIN.csv', sep=';')\n",
    "mailout_test = pd.read_csv('C:/Users/akash/Desktop/Capstone Project/Udacity_MAILOUT_052018_TEST.csv', sep=';')"
   ]
  },
  {
   "cell_type": "code",
   "execution_count": 15,
   "metadata": {},
   "outputs": [
    {
     "data": {
      "text/html": [
       "<div>\n",
       "<style scoped>\n",
       "    .dataframe tbody tr th:only-of-type {\n",
       "        vertical-align: middle;\n",
       "    }\n",
       "\n",
       "    .dataframe tbody tr th {\n",
       "        vertical-align: top;\n",
       "    }\n",
       "\n",
       "    .dataframe thead th {\n",
       "        text-align: right;\n",
       "    }\n",
       "</style>\n",
       "<table border=\"1\" class=\"dataframe\">\n",
       "  <thead>\n",
       "    <tr style=\"text-align: right;\">\n",
       "      <th></th>\n",
       "      <th>LNR</th>\n",
       "      <th>AGER_TYP</th>\n",
       "      <th>AKT_DAT_KL</th>\n",
       "      <th>ALTER_HH</th>\n",
       "      <th>ALTER_KIND1</th>\n",
       "      <th>ALTER_KIND2</th>\n",
       "      <th>ALTER_KIND3</th>\n",
       "      <th>ALTER_KIND4</th>\n",
       "      <th>ALTERSKATEGORIE_FEIN</th>\n",
       "      <th>ANZ_HAUSHALTE_AKTIV</th>\n",
       "      <th>...</th>\n",
       "      <th>VK_DHT4A</th>\n",
       "      <th>VK_DISTANZ</th>\n",
       "      <th>VK_ZG11</th>\n",
       "      <th>W_KEIT_KIND_HH</th>\n",
       "      <th>WOHNDAUER_2008</th>\n",
       "      <th>WOHNLAGE</th>\n",
       "      <th>ZABEOTYP</th>\n",
       "      <th>RESPONSE</th>\n",
       "      <th>ANREDE_KZ</th>\n",
       "      <th>ALTERSKATEGORIE_GROB</th>\n",
       "    </tr>\n",
       "  </thead>\n",
       "  <tbody>\n",
       "    <tr>\n",
       "      <td>0</td>\n",
       "      <td>1763</td>\n",
       "      <td>2</td>\n",
       "      <td>1.0</td>\n",
       "      <td>8.0</td>\n",
       "      <td>NaN</td>\n",
       "      <td>NaN</td>\n",
       "      <td>NaN</td>\n",
       "      <td>NaN</td>\n",
       "      <td>8.0</td>\n",
       "      <td>15.0</td>\n",
       "      <td>...</td>\n",
       "      <td>5.0</td>\n",
       "      <td>2.0</td>\n",
       "      <td>1.0</td>\n",
       "      <td>6.0</td>\n",
       "      <td>9.0</td>\n",
       "      <td>3.0</td>\n",
       "      <td>3</td>\n",
       "      <td>0</td>\n",
       "      <td>2</td>\n",
       "      <td>4</td>\n",
       "    </tr>\n",
       "    <tr>\n",
       "      <td>1</td>\n",
       "      <td>1771</td>\n",
       "      <td>1</td>\n",
       "      <td>4.0</td>\n",
       "      <td>13.0</td>\n",
       "      <td>NaN</td>\n",
       "      <td>NaN</td>\n",
       "      <td>NaN</td>\n",
       "      <td>NaN</td>\n",
       "      <td>13.0</td>\n",
       "      <td>1.0</td>\n",
       "      <td>...</td>\n",
       "      <td>1.0</td>\n",
       "      <td>2.0</td>\n",
       "      <td>1.0</td>\n",
       "      <td>4.0</td>\n",
       "      <td>9.0</td>\n",
       "      <td>7.0</td>\n",
       "      <td>1</td>\n",
       "      <td>0</td>\n",
       "      <td>2</td>\n",
       "      <td>3</td>\n",
       "    </tr>\n",
       "    <tr>\n",
       "      <td>2</td>\n",
       "      <td>1776</td>\n",
       "      <td>1</td>\n",
       "      <td>1.0</td>\n",
       "      <td>9.0</td>\n",
       "      <td>NaN</td>\n",
       "      <td>NaN</td>\n",
       "      <td>NaN</td>\n",
       "      <td>NaN</td>\n",
       "      <td>7.0</td>\n",
       "      <td>0.0</td>\n",
       "      <td>...</td>\n",
       "      <td>6.0</td>\n",
       "      <td>4.0</td>\n",
       "      <td>2.0</td>\n",
       "      <td>NaN</td>\n",
       "      <td>9.0</td>\n",
       "      <td>2.0</td>\n",
       "      <td>3</td>\n",
       "      <td>0</td>\n",
       "      <td>1</td>\n",
       "      <td>4</td>\n",
       "    </tr>\n",
       "    <tr>\n",
       "      <td>3</td>\n",
       "      <td>1460</td>\n",
       "      <td>2</td>\n",
       "      <td>1.0</td>\n",
       "      <td>6.0</td>\n",
       "      <td>NaN</td>\n",
       "      <td>NaN</td>\n",
       "      <td>NaN</td>\n",
       "      <td>NaN</td>\n",
       "      <td>6.0</td>\n",
       "      <td>4.0</td>\n",
       "      <td>...</td>\n",
       "      <td>8.0</td>\n",
       "      <td>11.0</td>\n",
       "      <td>11.0</td>\n",
       "      <td>6.0</td>\n",
       "      <td>9.0</td>\n",
       "      <td>1.0</td>\n",
       "      <td>3</td>\n",
       "      <td>0</td>\n",
       "      <td>2</td>\n",
       "      <td>4</td>\n",
       "    </tr>\n",
       "    <tr>\n",
       "      <td>4</td>\n",
       "      <td>1783</td>\n",
       "      <td>2</td>\n",
       "      <td>1.0</td>\n",
       "      <td>9.0</td>\n",
       "      <td>NaN</td>\n",
       "      <td>NaN</td>\n",
       "      <td>NaN</td>\n",
       "      <td>NaN</td>\n",
       "      <td>9.0</td>\n",
       "      <td>53.0</td>\n",
       "      <td>...</td>\n",
       "      <td>2.0</td>\n",
       "      <td>2.0</td>\n",
       "      <td>1.0</td>\n",
       "      <td>6.0</td>\n",
       "      <td>9.0</td>\n",
       "      <td>3.0</td>\n",
       "      <td>3</td>\n",
       "      <td>0</td>\n",
       "      <td>1</td>\n",
       "      <td>3</td>\n",
       "    </tr>\n",
       "  </tbody>\n",
       "</table>\n",
       "<p>5 rows × 367 columns</p>\n",
       "</div>"
      ],
      "text/plain": [
       "    LNR  AGER_TYP  AKT_DAT_KL  ALTER_HH  ALTER_KIND1  ALTER_KIND2  \\\n",
       "0  1763         2         1.0       8.0          NaN          NaN   \n",
       "1  1771         1         4.0      13.0          NaN          NaN   \n",
       "2  1776         1         1.0       9.0          NaN          NaN   \n",
       "3  1460         2         1.0       6.0          NaN          NaN   \n",
       "4  1783         2         1.0       9.0          NaN          NaN   \n",
       "\n",
       "   ALTER_KIND3  ALTER_KIND4  ALTERSKATEGORIE_FEIN  ANZ_HAUSHALTE_AKTIV  ...  \\\n",
       "0          NaN          NaN                   8.0                 15.0  ...   \n",
       "1          NaN          NaN                  13.0                  1.0  ...   \n",
       "2          NaN          NaN                   7.0                  0.0  ...   \n",
       "3          NaN          NaN                   6.0                  4.0  ...   \n",
       "4          NaN          NaN                   9.0                 53.0  ...   \n",
       "\n",
       "   VK_DHT4A  VK_DISTANZ  VK_ZG11  W_KEIT_KIND_HH  WOHNDAUER_2008  WOHNLAGE  \\\n",
       "0       5.0         2.0      1.0             6.0             9.0       3.0   \n",
       "1       1.0         2.0      1.0             4.0             9.0       7.0   \n",
       "2       6.0         4.0      2.0             NaN             9.0       2.0   \n",
       "3       8.0        11.0     11.0             6.0             9.0       1.0   \n",
       "4       2.0         2.0      1.0             6.0             9.0       3.0   \n",
       "\n",
       "   ZABEOTYP RESPONSE ANREDE_KZ ALTERSKATEGORIE_GROB  \n",
       "0         3        0         2                    4  \n",
       "1         1        0         2                    3  \n",
       "2         3        0         1                    4  \n",
       "3         3        0         2                    4  \n",
       "4         3        0         1                    3  \n",
       "\n",
       "[5 rows x 367 columns]"
      ]
     },
     "execution_count": 15,
     "metadata": {},
     "output_type": "execute_result"
    }
   ],
   "source": [
    "del mailout_train['Unnamed: 0']\n",
    "del mailout_test['Unnamed: 0']\n",
    "mailout_train.head()"
   ]
  },
  {
   "cell_type": "code",
   "execution_count": 16,
   "metadata": {},
   "outputs": [],
   "source": [
    "# Get y_train from training data\n",
    "response = mailout_train['RESPONSE']\n",
    "del mailout_train['RESPONSE']\n",
    "len_train, len_test = len(mailout_train), len(mailout_test)\n",
    "# Concat train and test data\n",
    "train_test_data = pd.concat([mailout_train, mailout_test])"
   ]
  },
  {
   "cell_type": "code",
   "execution_count": 17,
   "metadata": {},
   "outputs": [
    {
     "data": {
      "text/plain": [
       "0    42430\n",
       "1      532\n",
       "Name: RESPONSE, dtype: int64"
      ]
     },
     "execution_count": 17,
     "metadata": {},
     "output_type": "execute_result"
    }
   ],
   "source": [
    "response.value_counts()"
   ]
  },
  {
   "cell_type": "code",
   "execution_count": 18,
   "metadata": {},
   "outputs": [
    {
     "data": {
      "text/plain": [
       "(85795, 366)"
      ]
     },
     "execution_count": 18,
     "metadata": {},
     "output_type": "execute_result"
    }
   ],
   "source": [
    "train_test_data.shape"
   ]
  },
  {
   "cell_type": "markdown",
   "metadata": {},
   "source": [
    "The dataset is highly imbalanced because of the disproportionate amount of customers and non-customers as positive responses are only 1.23%."
   ]
  },
  {
   "cell_type": "markdown",
   "metadata": {},
   "source": [
    "# Data Cleaning"
   ]
  },
  {
   "cell_type": "code",
   "execution_count": null,
   "metadata": {},
   "outputs": [],
   "source": [
    "def clean_data_new(data):\n",
    "    \n",
    "    # Remove columns which have more than 20% missing data\n",
    "    \n",
    "    percent_null_count = (data.isnull().sum()/len(azdias))*100\n",
    "    percent_missing_over20 = percent_null_count[percent_null_count>20]\n",
    "    missing20_col_names=percent_missing_over20.index.tolist()\n",
    "    \n",
    "    data=data.drop(missing20_col_names,axis=1)\n",
    "    \n",
    "    data['OST_WEST_KZ'].replace(['W','O'],[1,0],inplace=True)\n",
    "    data['VERS_TYP'].replace([1, 2], [1, 0], inplace=True)\n",
    "    data['ANREDE_KZ'].replace([2, 1], [1, 0], inplace=True)\n",
    "    \n",
    "    # Create two new variables using CAMEO_INTL_2015\n",
    "    \n",
    "    data['CAMEO_INTL_2015_WEALTH'] = data['CAMEO_INTL_2015']\n",
    "    data['CAMEO_INTL_2015_LIFESTAGE'] = data['CAMEO_INTL_2015']\n",
    "    data = data.drop('CAMEO_INTL_2015', axis=1)\n",
    "    \n",
    "    wealth_des = {11:1, 12:1, 13:1, 14:1, 15:1, 21:2, 22:2, 23:2, 24:2, 25:2,\n",
    "               31:3, 32:3, 33:3, 34:3, 35:3, 41:4, 42:4, 43:4, 44:4, 45:4,\n",
    "               51:5, 52:5, 53:5, 54:5, 55:5,51:5,'11':1, '12':1, '13':1, '14':1, '15':1, '21':2, '22':2, '23':2, '24':2, '25':2,\n",
    "               '31':3, '32':3, '33':3, '34':3, '35':3, '41':4, '42':4, '43':4, '44':4, '45':4,\n",
    "               '51':5, '52':5, '53':5, '54':5, '55':5,'XX':-1}\n",
    "\n",
    "    lifestage_des = {11:1, 12:2, 13:3, 14:4, 15:5, 21:1, 22:2, 23:3, 24:4, 25:5,\n",
    "                   31:1, 32:2, 33:3, 34:4, 35:5, 41:1, 42:2, 43:3, 44:4, 45:5,\n",
    "                   51:1, 52:2, 53:3, 54:4, 55:5,'11':1, '12':2, '13':3, '14':4, '15':5, '21':1, '22':2, '23':3, '24':4, '25':5,\n",
    "                   '31':1, '32':2, '33':3, '34':4, '35':5, '41':1, '42':2, '43':3, '44':4, '45':5,\n",
    "                   '51':1, '52':2, '53':3, '54':4, '55':5,'XX':-1}\n",
    "    \n",
    "    group_class = {1:1,2:1,3:2,4:2,5:2,6:3,7:3,8:4,9:4,'1':1,'2':1,'3':2,'4':2,'5':2,'6':3,'7':3,'8':4,'9':4,'X':-1}\n",
    "\n",
    "    data['CAMEO_INTL_2015_WEALTH'].replace(wealth_des, inplace=True)\n",
    "    data['CAMEO_INTL_2015_LIFESTAGE'].replace(lifestage_des, inplace=True)\n",
    "    data['CAMEO_DEUG_2015'].replace(group_class, inplace=True)\n",
    "    \n",
    "    data['PRAEGENDE_DECADE'] = data['PRAEGENDE_JUGENDJAHRE']\n",
    "    data = data.drop('PRAEGENDE_JUGENDJAHRE', axis=1)\n",
    "    \n",
    "    # Change coding for PRAEGENDE_DECADE\n",
    "    \n",
    "    decade_dic = {1:1, 2:1, 3:2, 4:2, 5:3, 6:3, 7:3, 8:4, 9:4, 10:5, 11:5, 12:5, 13:5, 14:6, 15:6}\n",
    "    \n",
    "    data['PRAEGENDE_DECADE'].replace(decade_dic, inplace=True)\n",
    "    \n",
    "    data=pd.get_dummies(data, columns=['CAMEO_DEU_2015'])\n",
    "    \n",
    "    # Remove LNR and EINGEFUEGT_AM from the database\n",
    "    \n",
    "    data.drop(['LNR','EINGEFUEGT_AM','D19_LETZTER_KAUF_BRANCHE'], axis=1, inplace=True)\n",
    "    \n",
    "    return data"
   ]
  },
  {
   "cell_type": "code",
   "execution_count": null,
   "metadata": {},
   "outputs": [],
   "source": [
    "# Call clean_data function to clean the data\n",
    "train_test_data_clean = clean_data_new(train_test_data)\n",
    "train_test_data_clean.shape"
   ]
  },
  {
   "cell_type": "code",
   "execution_count": 22,
   "metadata": {},
   "outputs": [
    {
     "name": "stderr",
     "output_type": "stream",
     "text": [
      "C:\\Users\\akash\\Anaconda3\\lib\\site-packages\\sklearn\\utils\\deprecation.py:66: DeprecationWarning: Class Imputer is deprecated; Imputer was deprecated in version 0.20 and will be removed in 0.22. Import impute.SimpleImputer from sklearn instead.\n",
      "  warnings.warn(msg, category=DeprecationWarning)\n"
     ]
    }
   ],
   "source": [
    "imputer = Imputer(missing_values='NaN', strategy='median', axis=0)\n",
    "train_test_data_impute = imputer.fit_transform(train_test_data_clean)"
   ]
  },
  {
   "cell_type": "code",
   "execution_count": 23,
   "metadata": {},
   "outputs": [],
   "source": [
    "scaler = StandardScaler()\n",
    "train_test_data_scaler = scaler.fit_transform(train_test_data_impute)"
   ]
  },
  {
   "cell_type": "code",
   "execution_count": null,
   "metadata": {},
   "outputs": [],
   "source": [
    "# Split the dataset to train and test\n",
    "train_data = train_test_data_scaler[:len_train]\n",
    "test_data = train_test_data_scaler[len_train:]"
   ]
  },
  {
   "cell_type": "markdown",
   "metadata": {},
   "source": [
    "# Modelling Data"
   ]
  },
  {
   "cell_type": "markdown",
   "metadata": {},
   "source": [
    "Our data is highly imbalanced, using accuracy would not be ideal way to evaluate the model performance. Hence, we will use ROC_AUC to assess the model performance. \n",
    "\n",
    "In this project we will use the following models:\n",
    "\n",
    "1) XGBRegressor\n",
    "2) RandomForestRegressor\n",
    "3) GradientBoostingClassifier"
   ]
  },
  {
   "cell_type": "code",
   "execution_count": 54,
   "metadata": {},
   "outputs": [],
   "source": [
    "# Initialize the models\n",
    "model_1 = XGBRegressor(objective='binary:logistic', random_state=1)\n",
    "model_2 = RandomForestRegressor(random_state=1)\n",
    "model_3 = GradientBoostingClassifier(random_state=1)"
   ]
  },
  {
   "cell_type": "code",
   "execution_count": 49,
   "metadata": {},
   "outputs": [],
   "source": [
    "# randomize the data\n",
    "\n",
    "def randomize(X, Y):\n",
    "    permutation = np.random.permutation(Y.shape[0])\n",
    "    X2 = X[permutation, :]\n",
    "    Y2 = Y[permutation]\n",
    "    \n",
    "    return X2, Y2\n",
    "\n",
    "\n",
    "X_train, y_train = randomize(np.asarray(train_data), np.asarray(response))"
   ]
  },
  {
   "cell_type": "code",
   "execution_count": 50,
   "metadata": {},
   "outputs": [],
   "source": [
    "# Learning Curves\n",
    "\n",
    "def learning_curves(X, y, estimator, title=\"Learning Curves\"):\n",
    "    \n",
    "    X2, y2 = randomize(X, y)\n",
    "    \n",
    "    train_sizes = np.linspace(.1, 1.0, 10)\n",
    "    train_sizes, train_scores, test_scores = learning_curve(estimator,\n",
    "                                                            X2,\n",
    "                                                            y2,\n",
    "                                                            cv=5,\n",
    "                                                            scoring='roc_auc',\n",
    "                                                            n_jobs=-1,\n",
    "                                                            train_sizes=train_sizes,\n",
    "                                                            shuffle=True,\n",
    "                                                            verbose=10\n",
    "                                                           )\n",
    "\n",
    "    train_scores_mean = np.mean(train_scores, axis=1)\n",
    "    train_scores_std = np.std(train_scores, axis=1)\n",
    "    test_scores_mean = np.mean(test_scores, axis=1)\n",
    "    test_scores_std = np.std(test_scores, axis=1)\n",
    "\n",
    "    fig = plt.figure()\n",
    "    plt.grid()\n",
    "    plt.title(title)\n",
    "    plt.xlabel(\"Training examples\")\n",
    "    plt.ylabel(\"AUC score\")\n",
    "\n",
    "    plt.plot(train_scores_mean, 'o-', color=\"g\",\n",
    "             label=\"Training Score\")\n",
    "    plt.plot(test_scores_mean, 'o-', color=\"y\",\n",
    "             label=\"Cross-Validation Score\")\n",
    "\n",
    "    plt.legend(loc=\"best\")\n",
    "\n",
    "    plt.show()"
   ]
  },
  {
   "cell_type": "code",
   "execution_count": 51,
   "metadata": {},
   "outputs": [
    {
     "name": "stdout",
     "output_type": "stream",
     "text": [
      "[learning_curve] Training set sizes: [ 3436  6873 10310 13747 17184 20621 24058 27495 30932 34369]\n"
     ]
    },
    {
     "name": "stderr",
     "output_type": "stream",
     "text": [
      "[Parallel(n_jobs=-1)]: Using backend LokyBackend with 12 concurrent workers.\n",
      "[Parallel(n_jobs=-1)]: Done   3 out of  50 | elapsed:   39.6s remaining: 10.4min\n",
      "[Parallel(n_jobs=-1)]: Done   9 out of  50 | elapsed:  1.6min remaining:  7.1min\n",
      "[Parallel(n_jobs=-1)]: Done  15 out of  50 | elapsed:  2.4min remaining:  5.7min\n",
      "[Parallel(n_jobs=-1)]: Done  21 out of  50 | elapsed:  3.2min remaining:  4.5min\n",
      "[Parallel(n_jobs=-1)]: Done  27 out of  50 | elapsed:  4.0min remaining:  3.4min\n",
      "[Parallel(n_jobs=-1)]: Done  33 out of  50 | elapsed:  4.7min remaining:  2.4min\n",
      "[Parallel(n_jobs=-1)]: Done  39 out of  50 | elapsed:  5.7min remaining:  1.6min\n",
      "[Parallel(n_jobs=-1)]: Done  45 out of  50 | elapsed:  6.5min remaining:   43.2s\n",
      "[Parallel(n_jobs=-1)]: Done  50 out of  50 | elapsed:  7.2min finished\n"
     ]
    },
    {
     "data": {
      "image/png": "[encoded data removed]",
      "text/plain": [
       "<Figure size 432x288 with 1 Axes>"
      ]
     },
     "metadata": {
      "needs_background": "light"
     },
     "output_type": "display_data"
    }
   ],
   "source": [
    "# XGBCRegressor\n",
    "learning_curves(X_train, y_train, model_1,\n",
    "                     title=\"Learning Curves of XGBRegressor\")"
   ]
  },
  {
   "cell_type": "code",
   "execution_count": 52,
   "metadata": {},
   "outputs": [
    {
     "name": "stdout",
     "output_type": "stream",
     "text": [
      "[learning_curve] Training set sizes: [ 3436  6873 10310 13747 17184 20621 24058 27495 30932 34369]\n"
     ]
    },
    {
     "name": "stderr",
     "output_type": "stream",
     "text": [
      "[Parallel(n_jobs=-1)]: Using backend LokyBackend with 12 concurrent workers.\n",
      "[Parallel(n_jobs=-1)]: Done   3 out of  50 | elapsed:   17.2s remaining:  4.5min\n",
      "[Parallel(n_jobs=-1)]: Done   9 out of  50 | elapsed:   58.2s remaining:  4.4min\n",
      "[Parallel(n_jobs=-1)]: Done  15 out of  50 | elapsed:  1.6min remaining:  3.7min\n",
      "[Parallel(n_jobs=-1)]: Done  21 out of  50 | elapsed:  2.1min remaining:  2.9min\n",
      "[Parallel(n_jobs=-1)]: Done  27 out of  50 | elapsed:  2.6min remaining:  2.2min\n",
      "[Parallel(n_jobs=-1)]: Done  33 out of  50 | elapsed:  3.1min remaining:  1.6min\n",
      "[Parallel(n_jobs=-1)]: Done  39 out of  50 | elapsed:  3.7min remaining:  1.1min\n",
      "[Parallel(n_jobs=-1)]: Done  45 out of  50 | elapsed:  4.3min remaining:   28.4s\n",
      "[Parallel(n_jobs=-1)]: Done  50 out of  50 | elapsed:  4.6min finished\n"
     ]
    },
    {
     "data": {
      "image/png": "[encoded data removed]",
      "text/plain": [
       "<Figure size 432x288 with 1 Axes>"
      ]
     },
     "metadata": {
      "needs_background": "light"
     },
     "output_type": "display_data"
    }
   ],
   "source": [
    "# RandomForestRegressor\n",
    "learning_curves(X_train, y_train, model_2,\n",
    "                     title=\"Learning Curves of RandomForestRegressor\")"
   ]
  },
  {
   "cell_type": "code",
   "execution_count": 55,
   "metadata": {},
   "outputs": [
    {
     "name": "stdout",
     "output_type": "stream",
     "text": [
      "[learning_curve] Training set sizes: [ 3436  6873 10310 13747 17184 20621 24058 27495 30932 34369]\n"
     ]
    },
    {
     "name": "stderr",
     "output_type": "stream",
     "text": [
      "[Parallel(n_jobs=-1)]: Using backend LokyBackend with 12 concurrent workers.\n",
      "[Parallel(n_jobs=-1)]: Done   3 out of  50 | elapsed:  2.1min remaining: 33.5min\n",
      "[Parallel(n_jobs=-1)]: Done   9 out of  50 | elapsed:  6.5min remaining: 29.8min\n",
      "[Parallel(n_jobs=-1)]: Done  15 out of  50 | elapsed: 10.8min remaining: 25.2min\n",
      "[Parallel(n_jobs=-1)]: Done  21 out of  50 | elapsed: 14.6min remaining: 20.2min\n",
      "[Parallel(n_jobs=-1)]: Done  27 out of  50 | elapsed: 18.3min remaining: 15.6min\n",
      "[Parallel(n_jobs=-1)]: Done  33 out of  50 | elapsed: 22.6min remaining: 11.7min\n",
      "[Parallel(n_jobs=-1)]: Done  39 out of  50 | elapsed: 26.4min remaining:  7.4min\n",
      "[Parallel(n_jobs=-1)]: Done  45 out of  50 | elapsed: 30.0min remaining:  3.3min\n",
      "[Parallel(n_jobs=-1)]: Done  50 out of  50 | elapsed: 31.5min finished\n"
     ]
    },
    {
     "data": {
      "image/png": "[encoded data removed]",
      "text/plain": [
       "<Figure size 432x288 with 1 Axes>"
      ]
     },
     "metadata": {
      "needs_background": "light"
     },
     "output_type": "display_data"
    }
   ],
   "source": [
    "# GradientBoostingClassifier\n",
    "learning_curves(X_train, y_train, model_3,\n",
    "                     title=\"Learning Curves of GradientBoostingClassifier\")"
   ]
  },
  {
   "cell_type": "markdown",
   "metadata": {},
   "source": [
    "For GradientBoostingClassifier, training score keeps decreasing and cross-validation score keeps increasing. while for the other two models training score remains constant and the cross-validation score is low compared to GradientBoostingClassifier model. \n",
    "\n",
    "After analyzing all three models, we can say that GradientBoostingClassifier is the best model. "
   ]
  },
  {
   "cell_type": "markdown",
   "metadata": {},
   "source": [
    "# Parameter Tuning"
   ]
  },
  {
   "cell_type": "markdown",
   "metadata": {},
   "source": [
    "Steps for Parameter Tuning:\n",
    "\n",
    "1) First find out the optimum number of trees\n",
    "2) Tune the learning rate and decide the optimal parameter.\n",
    "3) Tune tree specific parameters (max_depth, min_samples_split and min_samples_leaf)"
   ]
  },
  {
   "cell_type": "code",
   "execution_count": 53,
   "metadata": {},
   "outputs": [],
   "source": [
    "def grid_search(clf, param_grid, X_train=X_train, y_train=y_train):\n",
    "    \n",
    "    \"\"\"\n",
    "    Fits a classifier to its training data and prints its ROC AUC score.\n",
    "    \n",
    "    INPUT:\n",
    "    - clf (classifier): classifier to fit\n",
    "    - param_grid (dict): classifier parameters used with GridSearchCV\n",
    "    - X_train (DataFrame): training input\n",
    "    - y_train (DataFrame): training output\n",
    "            \n",
    "    OUTPUT:\n",
    "    - classifier: input classifier fitted to the training data\n",
    "    \"\"\"\n",
    "    \n",
    "    # scoring roc_auc available as parameter\n",
    "    \n",
    "    grid = GridSearchCV(estimator=clf, param_grid=param_grid, scoring='roc_auc', cv=5)\n",
    "    grid.fit(X_train, y_train)\n",
    "    \n",
    "    print('Best score: ', grid.best_score_)\n",
    "    print('Best params: ', grid.best_params_)\n",
    "    \n",
    "    return grid.best_estimator_"
   ]
  },
  {
   "cell_type": "markdown",
   "metadata": {},
   "source": [
    "# Find the number of estimators"
   ]
  },
  {
   "cell_type": "code",
   "execution_count": 61,
   "metadata": {},
   "outputs": [
    {
     "name": "stdout",
     "output_type": "stream",
     "text": [
      "Best score:  0.7622396161096848\n",
      "Best params:  {'n_estimators': 15}\n"
     ]
    }
   ],
   "source": [
    "clf = GradientBoostingClassifier(random_state=1)\n",
    "\n",
    "# use gridsearch to find best fitted model\n",
    "\n",
    "parameters = {\n",
    "    'n_estimators': range(5,30,5)\n",
    "             }\n",
    "\n",
    "\n",
    "best_predicter = grid_search(clf, parameters, X_train, y_train)"
   ]
  },
  {
   "cell_type": "markdown",
   "metadata": {},
   "source": [
    "# Tune Learning Rate"
   ]
  },
  {
   "cell_type": "code",
   "execution_count": 62,
   "metadata": {},
   "outputs": [
    {
     "name": "stdout",
     "output_type": "stream",
     "text": [
      "Best score:  0.7622396161096848\n",
      "Best params:  {'learning_rate': 0.1, 'n_estimators': 15}\n"
     ]
    }
   ],
   "source": [
    "clf = GradientBoostingClassifier(random_state=1)\n",
    "\n",
    "# use gridsearch to find best fitted model\n",
    "\n",
    "parameters = {\n",
    "    'n_estimators': [15],\n",
    "    'learning_rate':[0.001, 0.01, 0.05, 0.1]           \n",
    "             }\n",
    "\n",
    "\n",
    "best_predicter = grid_search(clf, parameters, X_train, y_train)"
   ]
  },
  {
   "cell_type": "markdown",
   "metadata": {},
   "source": [
    "# Tune max_depth, min_samples_split and min_samples_leaf"
   ]
  },
  {
   "cell_type": "code",
   "execution_count": 63,
   "metadata": {},
   "outputs": [
    {
     "name": "stdout",
     "output_type": "stream",
     "text": [
      "Best score:  0.7679420651987072\n",
      "Best params:  {'learning_rate': 0.1, 'max_depth': 5, 'n_estimators': 15}\n"
     ]
    }
   ],
   "source": [
    "clf = GradientBoostingClassifier(random_state=1)\n",
    "\n",
    "# use gridsearch to find best fitted model\n",
    "\n",
    "parameters = {\n",
    "            'n_estimators': [15],\n",
    "            'learning_rate':[0.1],\n",
    "            'max_depth': [5,6,7,8,9]\n",
    "             }\n",
    "\n",
    "\n",
    "best_predicter = grid_search(clf, parameters, X_train, y_train)"
   ]
  },
  {
   "cell_type": "code",
   "execution_count": 70,
   "metadata": {},
   "outputs": [
    {
     "name": "stdout",
     "output_type": "stream",
     "text": [
      "Best score:  0.7593900999807008\n",
      "Best params:  {'learning_rate': 0.1, 'max_depth': 5, 'min_samples_split': 220, 'n_estimators': 15}\n"
     ]
    }
   ],
   "source": [
    "clf = GradientBoostingClassifier(random_state=1)\n",
    "\n",
    "# use gridsearch to find best fitted model\n",
    "\n",
    "parameters = {\n",
    "            'n_estimators': [15],\n",
    "            'learning_rate':[0.1],\n",
    "            'max_depth': [5],\n",
    "            'min_samples_split':range(160,280,20)\n",
    "             }\n",
    "\n",
    "\n",
    "best_predicter = grid_search(clf, parameters, X_train, y_train)"
   ]
  },
  {
   "cell_type": "code",
   "execution_count": 72,
   "metadata": {},
   "outputs": [
    {
     "name": "stdout",
     "output_type": "stream",
     "text": [
      "Best score:  0.7634379084047392\n",
      "Best params:  {'learning_rate': 0.1, 'max_depth': 5, 'min_samples_leaf': 30, 'min_samples_split': 220, 'n_estimators': 15}\n"
     ]
    }
   ],
   "source": [
    "clf = GradientBoostingClassifier(random_state=1)\n",
    "\n",
    "# use gridsearch to find best fitted model\n",
    "\n",
    "parameters = {\n",
    "            'n_estimators': [15],\n",
    "            'learning_rate':[0.1],\n",
    "            'max_depth': [5],\n",
    "            'min_samples_split':[220],\n",
    "            'min_samples_leaf':range(30,71,10)\n",
    "             }\n",
    "\n",
    "\n",
    "best_predicter = grid_search(clf, parameters, X_train, y_train)"
   ]
  },
  {
   "cell_type": "code",
   "execution_count": 73,
   "metadata": {},
   "outputs": [
    {
     "data": {
      "text/plain": [
       "GradientBoostingClassifier(criterion='friedman_mse', init=None,\n",
       "                           learning_rate=0.1, loss='deviance', max_depth=5,\n",
       "                           max_features=None, max_leaf_nodes=None,\n",
       "                           min_impurity_decrease=0.0, min_impurity_split=None,\n",
       "                           min_samples_leaf=30, min_samples_split=220,\n",
       "                           min_weight_fraction_leaf=0.0, n_estimators=15,\n",
       "                           n_iter_no_change=None, presort='auto',\n",
       "                           random_state=1, subsample=1.0, tol=0.0001,\n",
       "                           validation_fraction=0.1, verbose=0,\n",
       "                           warm_start=False)"
      ]
     },
     "execution_count": 73,
     "metadata": {},
     "output_type": "execute_result"
    }
   ],
   "source": [
    "best_predicter"
   ]
  },
  {
   "cell_type": "markdown",
   "metadata": {},
   "source": [
    "Now that we have created a model to predict which individuals are most likely to respond to a mailout campaign. It's time to test it on the test data. \n",
    "\n"
   ]
  },
  {
   "cell_type": "markdown",
   "metadata": {},
   "source": [
    "## Part 3: Kaggle Competition\n",
    "\n",
    "Now that you've created a model to predict which individuals are most likely to respond to a mailout campaign, it's time to test that model in competition through Kaggle. If you click on the link [here](http://www.kaggle.com/t/21e6d45d4c574c7fa2d868f0e8c83140), you'll be taken to the competition page where, if you have a Kaggle account, you can enter. If you're one of the top performers, you may have the chance to be contacted by a hiring manager from Arvato or Bertelsmann for an interview!\n",
    "\n",
    "Your entry to the competition should be a CSV file with two columns. The first column should be a copy of \"LNR\", which acts as an ID number for each individual in the \"TEST\" partition. The second column, \"RESPONSE\", should be some measure of how likely each individual became a customer – this might not be a straightforward probability. As you should have found in Part 2, there is a large output class imbalance, where most individuals did not respond to the mailout. Thus, predicting individual classes and using accuracy does not seem to be an appropriate performance evaluation method. Instead, the competition will be using AUC to evaluate performance. The exact values of the \"RESPONSE\" column do not matter as much: only that the higher values try to capture as many of the actual customers as possible, early in the ROC curve sweep."
   ]
  },
  {
   "cell_type": "code",
   "execution_count": 74,
   "metadata": {},
   "outputs": [
    {
     "name": "stderr",
     "output_type": "stream",
     "text": [
      "C:\\Users\\akash\\Anaconda3\\lib\\site-packages\\IPython\\core\\interactiveshell.py:3058: DtypeWarning: Columns (19,20) have mixed types. Specify dtype option on import or set low_memory=False.\n",
      "  interactivity=interactivity, compiler=compiler, result=result)\n"
     ]
    }
   ],
   "source": [
    "mailout_test = pd.read_csv('C:/Users/akash/Desktop/Capstone Project/Udacity_MAILOUT_052018_TEST.csv', sep=';')"
   ]
  },
  {
   "cell_type": "code",
   "execution_count": 75,
   "metadata": {},
   "outputs": [
    {
     "data": {
      "text/html": [
       "<div>\n",
       "<style scoped>\n",
       "    .dataframe tbody tr th:only-of-type {\n",
       "        vertical-align: middle;\n",
       "    }\n",
       "\n",
       "    .dataframe tbody tr th {\n",
       "        vertical-align: top;\n",
       "    }\n",
       "\n",
       "    .dataframe thead th {\n",
       "        text-align: right;\n",
       "    }\n",
       "</style>\n",
       "<table border=\"1\" class=\"dataframe\">\n",
       "  <thead>\n",
       "    <tr style=\"text-align: right;\">\n",
       "      <th></th>\n",
       "      <th>LNR</th>\n",
       "      <th>AGER_TYP</th>\n",
       "      <th>AKT_DAT_KL</th>\n",
       "      <th>ALTER_HH</th>\n",
       "      <th>ALTER_KIND1</th>\n",
       "      <th>ALTER_KIND2</th>\n",
       "      <th>ALTER_KIND3</th>\n",
       "      <th>ALTER_KIND4</th>\n",
       "      <th>ALTERSKATEGORIE_FEIN</th>\n",
       "      <th>ANZ_HAUSHALTE_AKTIV</th>\n",
       "      <th>...</th>\n",
       "      <th>VHN</th>\n",
       "      <th>VK_DHT4A</th>\n",
       "      <th>VK_DISTANZ</th>\n",
       "      <th>VK_ZG11</th>\n",
       "      <th>W_KEIT_KIND_HH</th>\n",
       "      <th>WOHNDAUER_2008</th>\n",
       "      <th>WOHNLAGE</th>\n",
       "      <th>ZABEOTYP</th>\n",
       "      <th>ANREDE_KZ</th>\n",
       "      <th>ALTERSKATEGORIE_GROB</th>\n",
       "    </tr>\n",
       "  </thead>\n",
       "  <tbody>\n",
       "    <tr>\n",
       "      <td>0</td>\n",
       "      <td>1763</td>\n",
       "      <td>2</td>\n",
       "      <td>1.0</td>\n",
       "      <td>8.0</td>\n",
       "      <td>NaN</td>\n",
       "      <td>NaN</td>\n",
       "      <td>NaN</td>\n",
       "      <td>NaN</td>\n",
       "      <td>8.0</td>\n",
       "      <td>15.0</td>\n",
       "      <td>...</td>\n",
       "      <td>2.0</td>\n",
       "      <td>5.0</td>\n",
       "      <td>2.0</td>\n",
       "      <td>1.0</td>\n",
       "      <td>6.0</td>\n",
       "      <td>9.0</td>\n",
       "      <td>3.0</td>\n",
       "      <td>3</td>\n",
       "      <td>2</td>\n",
       "      <td>4</td>\n",
       "    </tr>\n",
       "    <tr>\n",
       "      <td>1</td>\n",
       "      <td>1771</td>\n",
       "      <td>1</td>\n",
       "      <td>4.0</td>\n",
       "      <td>13.0</td>\n",
       "      <td>NaN</td>\n",
       "      <td>NaN</td>\n",
       "      <td>NaN</td>\n",
       "      <td>NaN</td>\n",
       "      <td>13.0</td>\n",
       "      <td>1.0</td>\n",
       "      <td>...</td>\n",
       "      <td>3.0</td>\n",
       "      <td>1.0</td>\n",
       "      <td>2.0</td>\n",
       "      <td>1.0</td>\n",
       "      <td>4.0</td>\n",
       "      <td>9.0</td>\n",
       "      <td>7.0</td>\n",
       "      <td>1</td>\n",
       "      <td>2</td>\n",
       "      <td>3</td>\n",
       "    </tr>\n",
       "    <tr>\n",
       "      <td>2</td>\n",
       "      <td>1776</td>\n",
       "      <td>1</td>\n",
       "      <td>1.0</td>\n",
       "      <td>9.0</td>\n",
       "      <td>NaN</td>\n",
       "      <td>NaN</td>\n",
       "      <td>NaN</td>\n",
       "      <td>NaN</td>\n",
       "      <td>7.0</td>\n",
       "      <td>0.0</td>\n",
       "      <td>...</td>\n",
       "      <td>1.0</td>\n",
       "      <td>6.0</td>\n",
       "      <td>4.0</td>\n",
       "      <td>2.0</td>\n",
       "      <td>NaN</td>\n",
       "      <td>9.0</td>\n",
       "      <td>2.0</td>\n",
       "      <td>3</td>\n",
       "      <td>1</td>\n",
       "      <td>4</td>\n",
       "    </tr>\n",
       "    <tr>\n",
       "      <td>3</td>\n",
       "      <td>1460</td>\n",
       "      <td>2</td>\n",
       "      <td>1.0</td>\n",
       "      <td>6.0</td>\n",
       "      <td>NaN</td>\n",
       "      <td>NaN</td>\n",
       "      <td>NaN</td>\n",
       "      <td>NaN</td>\n",
       "      <td>6.0</td>\n",
       "      <td>4.0</td>\n",
       "      <td>...</td>\n",
       "      <td>4.0</td>\n",
       "      <td>8.0</td>\n",
       "      <td>11.0</td>\n",
       "      <td>11.0</td>\n",
       "      <td>6.0</td>\n",
       "      <td>9.0</td>\n",
       "      <td>1.0</td>\n",
       "      <td>3</td>\n",
       "      <td>2</td>\n",
       "      <td>4</td>\n",
       "    </tr>\n",
       "    <tr>\n",
       "      <td>4</td>\n",
       "      <td>1783</td>\n",
       "      <td>2</td>\n",
       "      <td>1.0</td>\n",
       "      <td>9.0</td>\n",
       "      <td>NaN</td>\n",
       "      <td>NaN</td>\n",
       "      <td>NaN</td>\n",
       "      <td>NaN</td>\n",
       "      <td>9.0</td>\n",
       "      <td>53.0</td>\n",
       "      <td>...</td>\n",
       "      <td>4.0</td>\n",
       "      <td>2.0</td>\n",
       "      <td>2.0</td>\n",
       "      <td>1.0</td>\n",
       "      <td>6.0</td>\n",
       "      <td>9.0</td>\n",
       "      <td>3.0</td>\n",
       "      <td>3</td>\n",
       "      <td>1</td>\n",
       "      <td>3</td>\n",
       "    </tr>\n",
       "  </tbody>\n",
       "</table>\n",
       "<p>5 rows × 366 columns</p>\n",
       "</div>"
      ],
      "text/plain": [
       "    LNR  AGER_TYP  AKT_DAT_KL  ALTER_HH  ALTER_KIND1  ALTER_KIND2  \\\n",
       "0  1763         2         1.0       8.0          NaN          NaN   \n",
       "1  1771         1         4.0      13.0          NaN          NaN   \n",
       "2  1776         1         1.0       9.0          NaN          NaN   \n",
       "3  1460         2         1.0       6.0          NaN          NaN   \n",
       "4  1783         2         1.0       9.0          NaN          NaN   \n",
       "\n",
       "   ALTER_KIND3  ALTER_KIND4  ALTERSKATEGORIE_FEIN  ANZ_HAUSHALTE_AKTIV  ...  \\\n",
       "0          NaN          NaN                   8.0                 15.0  ...   \n",
       "1          NaN          NaN                  13.0                  1.0  ...   \n",
       "2          NaN          NaN                   7.0                  0.0  ...   \n",
       "3          NaN          NaN                   6.0                  4.0  ...   \n",
       "4          NaN          NaN                   9.0                 53.0  ...   \n",
       "\n",
       "   VHN  VK_DHT4A  VK_DISTANZ  VK_ZG11  W_KEIT_KIND_HH  WOHNDAUER_2008  \\\n",
       "0  2.0       5.0         2.0      1.0             6.0             9.0   \n",
       "1  3.0       1.0         2.0      1.0             4.0             9.0   \n",
       "2  1.0       6.0         4.0      2.0             NaN             9.0   \n",
       "3  4.0       8.0        11.0     11.0             6.0             9.0   \n",
       "4  4.0       2.0         2.0      1.0             6.0             9.0   \n",
       "\n",
       "   WOHNLAGE ZABEOTYP ANREDE_KZ ALTERSKATEGORIE_GROB  \n",
       "0       3.0        3         2                    4  \n",
       "1       7.0        1         2                    3  \n",
       "2       2.0        3         1                    4  \n",
       "3       1.0        3         2                    4  \n",
       "4       3.0        3         1                    3  \n",
       "\n",
       "[5 rows x 366 columns]"
      ]
     },
     "execution_count": 75,
     "metadata": {},
     "output_type": "execute_result"
    }
   ],
   "source": [
    "del mailout_test['Unnamed: 0']\n",
    "mailout_train.head()"
   ]
  },
  {
   "cell_type": "code",
   "execution_count": 76,
   "metadata": {},
   "outputs": [],
   "source": [
    "lnr = mailout_test['LNR']"
   ]
  },
  {
   "cell_type": "code",
   "execution_count": 77,
   "metadata": {},
   "outputs": [
    {
     "data": {
      "text/plain": [
       "array([[0.96866474, 0.03133526],\n",
       "       [0.97537722, 0.02462278],\n",
       "       [0.99523503, 0.00476497],\n",
       "       ...,\n",
       "       [0.97061708, 0.02938292],\n",
       "       [0.9680933 , 0.0319067 ],\n",
       "       [0.98417529, 0.01582471]])"
      ]
     },
     "execution_count": 77,
     "metadata": {},
     "output_type": "execute_result"
    }
   ],
   "source": [
    "result = best_predicter.predict_proba(test_data)\n",
    "result"
   ]
  },
  {
   "cell_type": "code",
   "execution_count": 78,
   "metadata": {},
   "outputs": [],
   "source": [
    "output = pd.DataFrame({'LNR':lnr, 'RESPONSE':result[:,0]})"
   ]
  },
  {
   "cell_type": "code",
   "execution_count": 79,
   "metadata": {},
   "outputs": [
    {
     "data": {
      "text/html": [
       "<div>\n",
       "<style scoped>\n",
       "    .dataframe tbody tr th:only-of-type {\n",
       "        vertical-align: middle;\n",
       "    }\n",
       "\n",
       "    .dataframe tbody tr th {\n",
       "        vertical-align: top;\n",
       "    }\n",
       "\n",
       "    .dataframe thead th {\n",
       "        text-align: right;\n",
       "    }\n",
       "</style>\n",
       "<table border=\"1\" class=\"dataframe\">\n",
       "  <thead>\n",
       "    <tr style=\"text-align: right;\">\n",
       "      <th></th>\n",
       "      <th>LNR</th>\n",
       "      <th>RESPONSE</th>\n",
       "    </tr>\n",
       "  </thead>\n",
       "  <tbody>\n",
       "    <tr>\n",
       "      <td>0</td>\n",
       "      <td>1754</td>\n",
       "      <td>0.968665</td>\n",
       "    </tr>\n",
       "    <tr>\n",
       "      <td>1</td>\n",
       "      <td>1770</td>\n",
       "      <td>0.975377</td>\n",
       "    </tr>\n",
       "    <tr>\n",
       "      <td>2</td>\n",
       "      <td>1465</td>\n",
       "      <td>0.995235</td>\n",
       "    </tr>\n",
       "    <tr>\n",
       "      <td>3</td>\n",
       "      <td>1470</td>\n",
       "      <td>0.995211</td>\n",
       "    </tr>\n",
       "    <tr>\n",
       "      <td>4</td>\n",
       "      <td>1478</td>\n",
       "      <td>0.978337</td>\n",
       "    </tr>\n",
       "  </tbody>\n",
       "</table>\n",
       "</div>"
      ],
      "text/plain": [
       "    LNR  RESPONSE\n",
       "0  1754  0.968665\n",
       "1  1770  0.975377\n",
       "2  1465  0.995235\n",
       "3  1470  0.995211\n",
       "4  1478  0.978337"
      ]
     },
     "execution_count": 79,
     "metadata": {},
     "output_type": "execute_result"
    }
   ],
   "source": [
    "output.head(5)"
   ]
  },
  {
   "cell_type": "code",
   "execution_count": 80,
   "metadata": {},
   "outputs": [],
   "source": [
    "output.to_csv(path_or_buf='./result2.csv', index=False)"
   ]
  },
  {
   "cell_type": "code",
   "execution_count": null,
   "metadata": {},
   "outputs": [],
   "source": []
  },
  {
   "cell_type": "code",
   "execution_count": null,
   "metadata": {},
   "outputs": [],
   "source": []
  }
 ],
 "metadata": {
  "kernelspec": {
   "display_name": "Python 3",
   "language": "python",
   "name": "python3"
  },
  "language_info": {
   "codemirror_mode": {
    "name": "ipython",
    "version": 3
   },
   "file_extension": ".py",
   "mimetype": "text/x-python",
   "name": "python",
   "nbconvert_exporter": "python",
   "pygments_lexer": "ipython3",
   "version": "3.7.4"
  }
 },
 "nbformat": 4,
 "nbformat_minor": 2
}
